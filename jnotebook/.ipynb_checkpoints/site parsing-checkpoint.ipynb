{
 "cells": [
  {
   "cell_type": "code",
   "execution_count": 1,
   "metadata": {},
   "outputs": [],
   "source": [
    "from bs4 import BeautifulSoup as bf\n",
    "import urllib3\n",
    "import numpy as np\n",
    "from sklearn.metrics import r2_score\n",
    "import math"
   ]
  },
  {
   "cell_type": "code",
   "execution_count": 28,
   "metadata": {},
   "outputs": [
    {
     "name": "stderr",
     "output_type": "stream",
     "text": [
      "c:\\users\\dinmuhametov salavat\\appdata\\local\\programs\\python\\python36\\lib\\site-packages\\urllib3\\connectionpool.py:847: InsecureRequestWarning: Unverified HTTPS request is being made. Adding certificate verification is strongly advised. See: https://urllib3.readthedocs.io/en/latest/advanced-usage.html#ssl-warnings\n",
      "  InsecureRequestWarning)\n"
     ]
    },
    {
     "name": "stdout",
     "output_type": "stream",
     "text": [
      "54\n"
     ]
    }
   ],
   "source": [
    "http = urllib3.PoolManager()\n",
    "r = http.request('GET', 'https://www.avito.ru/rossiya/avtomobili?s_trg=4&f=')\n",
    "soup = bf(r.data, 'html.parser')\n",
    "print(len([price.text for price in soup.find_all('span', {\"class\": \"price\"})]))"
   ]
  },
  {
   "cell_type": "code",
   "execution_count": 50,
   "metadata": {},
   "outputs": [],
   "source": [
    "param = {\n",
    "    \"mark\":\"skoda\",\n",
    "    \"model\":\"octavia\",\n",
    "    \"body\":[\"sedan\", \"limusin\"],\n",
    "    \"engine\":[0.0, 6.0],\n",
    "    \"year\":[1960, 2019],\n",
    "    \n",
    "}\n"
   ]
  },
  {
   "cell_type": "code",
   "execution_count": 30,
   "metadata": {},
   "outputs": [
    {
     "name": "stdout",
     "output_type": "stream",
     "text": [
      "https://www.avito.ru/rossiya/avtomobili/skoda/octavia?s_trg=4&f=187_869-867.188_0b405242.1374_0b15830\n"
     ]
    }
   ],
   "source": [
    "def get_avito_url(prm):\n",
    "    base = 'https://www.avito.ru/rossiya/avtomobili'\n",
    "    try:\n",
    "        base += \"/\"+ prm['mark']\n",
    "    except (KeyError, TypeError):\n",
    "        pass\n",
    "    try:\n",
    "        base += '/'+prm['model']\n",
    "    except (KeyError, TypeError):\n",
    "        pass\n",
    "    base += '?s_trg=4&f='\n",
    "    try:\n",
    "        base += get_type_range_url('body', prm['body'])\n",
    "    except (KeyError, TypeError):\n",
    "        pass\n",
    "    try:\n",
    "        base += '.'+get_range_url('year',prm['year'])\n",
    "    except (KeyError, TypeError):\n",
    "        pass\n",
    "    try:\n",
    "        base += '.'+get_type_range_url('kpp', prm['kpp'])\n",
    "    except (KeyError, TypeError):\n",
    "        pass\n",
    "    try:\n",
    "        base += '.'+get_range_url('engine', prm['engine'])\n",
    "    except (KeyError, TypeError):\n",
    "        pass\n",
    "    return base\n",
    "print(get_avito_url(param))"
   ]
  },
  {
   "cell_type": "code",
   "execution_count": 31,
   "metadata": {
    "collapsed": true
   },
   "outputs": [
    {
     "ename": "NameError",
     "evalue": "name 'body' is not defined",
     "output_type": "error",
     "traceback": [
      "\u001b[1;31m---------------------------------------------------------------------------\u001b[0m",
      "\u001b[1;31mNameError\u001b[0m                                 Traceback (most recent call last)",
      "\u001b[1;32m<ipython-input-31-7935c22e0ea4>\u001b[0m in \u001b[0;36m<module>\u001b[1;34m\u001b[0m\n\u001b[1;32m----> 1\u001b[1;33m \u001b[0mbody\u001b[0m \u001b[1;33m+\u001b[0m \u001b[0myear\u001b[0m \u001b[1;33m+\u001b[0m \u001b[0mkpp\u001b[0m \u001b[1;33m+\u001b[0m \u001b[0mengine\u001b[0m\u001b[1;33m\u001b[0m\u001b[0m\n\u001b[0m",
      "\u001b[1;31mNameError\u001b[0m: name 'body' is not defined"
     ]
    }
   ],
   "source": [
    "body + year + kpp + engine"
   ]
  },
  {
   "cell_type": "code",
   "execution_count": 45,
   "metadata": {},
   "outputs": [
    {
     "data": {
      "text/plain": [
       "'188_6045b405242'"
      ]
     },
     "execution_count": 45,
     "metadata": {},
     "output_type": "execute_result"
    }
   ],
   "source": [
    "def get_range_url(name, prms):\n",
    "    base = multiple_params[name]['base']\n",
    "    all_params = list(multiple_params[name])\n",
    "    a1, a2=-1,-1\n",
    "    for pr in all_params:\n",
    "        if pr != 'base':\n",
    "            if float(prms[0])<=float(pr):\n",
    "                a1 = multiple_params[name][pr]\n",
    "                break\n",
    "    for pr in all_params:\n",
    "        if pr != 'base':\n",
    "            if float(prms[1])<=float(pr):\n",
    "                a2 = multiple_params[name][pr]\n",
    "                break\n",
    "    return str(base)+'_'+str(a1)+'b'+str(a2)\n",
    "get_range_url('year', [2012,2019])"
   ]
  },
  {
   "cell_type": "code",
   "execution_count": 46,
   "metadata": {},
   "outputs": [
    {
     "name": "stdout",
     "output_type": "stream",
     "text": [
      "185_861-14754\n"
     ]
    }
   ],
   "source": [
    "def get_type_range_url(name, prms):\n",
    "    first, second = multiple_params[name][prms[0]], multiple_params[name][prms[1]]\n",
    "    base = multiple_params[name]['base']\n",
    "    return str(base)+'_'+str(first)+'-'+str(second)\n",
    "print(get_type_range_url('kpp', ['mechanika', 'robot']))"
   ]
  },
  {
   "cell_type": "code",
   "execution_count": 47,
   "metadata": {},
   "outputs": [],
   "source": [
    "multiple_params = {\n",
    "   'kpp':{\n",
    "       'base':185,\n",
    "       'mechanika':861,\n",
    "       'avtomat':860,\n",
    "       'robot':14754,\n",
    "       'vibator':14753,\n",
    "       },\n",
    "    'year':{\n",
    "        'base':188,\n",
    "        '1960':0,\n",
    "        '1970':782,\n",
    "        '2012':6045,\n",
    "        '2019':405242,\n",
    "    },\n",
    "    'body':{\n",
    "        'base':187,\n",
    "        'sedan':869,\n",
    "        'limusin':867,\n",
    "        'chechbeck':872\n",
    "    },\n",
    "    'engine':{\n",
    "        'base':1374,\n",
    "        '0.0':0,\n",
    "        '0.6':15776,\n",
    "        '5.5':15825,\n",
    "        '6.0':15830\n",
    "    },\n",
    "    'mark':{\n",
    "        'skoda':['octavia', 'rapid'],\n",
    "        'vaz_lada':['kalina', 'granta'],\n",
    "        'kia':['rio','spectra']\n",
    "    },    \n",
    "}"
   ]
  },
  {
   "cell_type": "code",
   "execution_count": 52,
   "metadata": {},
   "outputs": [
    {
     "data": {
      "text/plain": [
       "array([[1.        , 1.        , 1.        , 0.99661647],\n",
       "       [1.        , 1.        , 1.        , 0.99661647],\n",
       "       [1.        , 1.        , 1.        , 0.9966165 ],\n",
       "       [0.99661647, 0.99661647, 0.9966165 , 1.        ]])"
      ]
     },
     "execution_count": 52,
     "metadata": {},
     "output_type": "execute_result"
    }
   ],
   "source": [
    "np.corrcoef([[2,1, 123333],[2,1, 123333],[23,3, 2343234]], [2,1, 12])"
   ]
  },
  {
   "cell_type": "code",
   "execution_count": 53,
   "metadata": {},
   "outputs": [
    {
     "name": "stderr",
     "output_type": "stream",
     "text": [
      "c:\\users\\dinmuhametov salavat\\appdata\\local\\programs\\python\\python36\\lib\\site-packages\\urllib3\\connectionpool.py:847: InsecureRequestWarning: Unverified HTTPS request is being made. Adding certificate verification is strongly advised. See: https://urllib3.readthedocs.io/en/latest/advanced-usage.html#ssl-warnings\n",
      "  InsecureRequestWarning)\n"
     ]
    }
   ],
   "source": [
    "ur = 'https://www.avito.ru/rossiya/avtomobili/skoda/octavia?s_trg=4&f=187_869-867.188_0b405242.1374_0b15830'\n",
    "\n",
    "dt = http.request('GET', ur)\n",
    "soup_in = bf(dt.data, 'html.parser')\n",
    "\n",
    "def get_data(soup):\n",
    "    return [price.text for price in soup.find_all('div', {\"class\": \"specific-params specific-params_block\"})]\n",
    "\n",
    "def get_money(soup):\n",
    "    return [price.text for price in soup.find_all('span', {\"class\": \"price\"})]\n",
    "\n",
    "def get_year(soup):\n",
    "    return [price.text for price in soup.find_all('a', {\"class\": \"item-description-title-link\"})]\n",
    "\n",
    "# shit = get_year()[:2]\n",
    "\n",
    "# shit = get_data('https://www.avito.ru/rossiya/avtomobili/s_probegom/skoda/octavia/bityy?s_trg=4&f=187_867-869.1374_0b15830')[:2]"
   ]
  },
  {
   "cell_type": "code",
   "execution_count": 54,
   "metadata": {},
   "outputs": [
    {
     "name": "stdout",
     "output_type": "stream",
     "text": [
      "0 0 0\n"
     ]
    }
   ],
   "source": [
    "raw_data = [preparsing(d) for d in get_data(soup_in)]\n",
    "x_money = [money_prepros(d) for d in get_money(soup_in)]\n",
    "x_year = [year_prepros(d) for d in get_year(soup_in)]\n",
    "print(len(raw_data), len(x_money), len(x_year))"
   ]
  },
  {
   "cell_type": "code",
   "execution_count": 55,
   "metadata": {},
   "outputs": [],
   "source": [
    "def money_prepros(req):\n",
    "    return req.replace(' ', '').replace('\\n', '').replace('₽', '')\n",
    "def year_prepros(req):\n",
    "    return req.split(',')[1].replace(' ','')\n",
    "def preparsing(shit):\n",
    "    return [st.replace('\\xa0', ' ').replace('\\n', '').replace(' ', '') for st in shit.split(',')]"
   ]
  },
  {
   "cell_type": "code",
   "execution_count": null,
   "metadata": {},
   "outputs": [],
   "source": [
    "#dispersa_anal\n",
    "#bitaya 1, 0\n",
    "#priceK\n",
    "#milescore\n",
    "#year\n",
    "#dvigatel"
   ]
  },
  {
   "cell_type": "code",
   "execution_count": 136,
   "metadata": {},
   "outputs": [
    {
     "data": {
      "text/plain": [
       "[]"
      ]
     },
     "execution_count": 136,
     "metadata": {},
     "output_type": "execute_result"
    }
   ],
   "source": [
    "def create_train_x(money, year, request):\n",
    "    train_x = []\n",
    "    for rq in request:\n",
    "        is_brouken = 0\n",
    "        km = 0\n",
    "        at,mt,amt=0,0,0\n",
    "        house_power = 0\n",
    "        engine_v = 0\n",
    "        for i in range(len(rq)):\n",
    "            if rq[i].find('Битый') != -1:\n",
    "                is_brouken = 1\n",
    "            if rq[i].find('км') != -1:\n",
    "                km = int(rq[i].replace('км', ''))\n",
    "            if rq[i].find('AT') != -1:\n",
    "                at=1\n",
    "            if rq[i].find('MT') != -1:\n",
    "                mt=1\n",
    "            if rq[i].find('AMT') != -1:\n",
    "                amt=1\n",
    "            if rq[i].find('л.с.') != -1:\n",
    "                house_power = int(rq[i][rq[i].find('(')+1:rq[i].find('л')])\n",
    "                engine_v = float(rq[i][rq[i].find('.')-1:rq[i].find('.')+2])\n",
    "            if money[i] == 0 or year[i] == 0 or house_power==0 or engine_v==0 or km==0:\n",
    "                continue\n",
    "        train_x.append([is_brouken,money[i],km,year[i], at,mt,amt,engine_v,house_power])\n",
    "    return train_x\n",
    "\n",
    "create_train_x(x_money, x_year, raw_data)"
   ]
  },
  {
   "cell_type": "code",
   "execution_count": 137,
   "metadata": {},
   "outputs": [],
   "source": [
    "train_x = create_train_x(x_money, x_year, raw_data)\n",
    "test_x = [0, 250000, 128500, 2001,1,0,0,1.8,150]"
   ]
  },
  {
   "cell_type": "code",
   "execution_count": 58,
   "metadata": {},
   "outputs": [
    {
     "ename": "ValueError",
     "evalue": "all the input array dimensions except for the concatenation axis must match exactly",
     "output_type": "error",
     "traceback": [
      "\u001b[1;31m---------------------------------------------------------------------------\u001b[0m",
      "\u001b[1;31mValueError\u001b[0m                                Traceback (most recent call last)",
      "\u001b[1;32m<ipython-input-58-f50b6b0bc886>\u001b[0m in \u001b[0;36m<module>\u001b[1;34m\u001b[0m\n\u001b[1;32m----> 1\u001b[1;33m \u001b[0mcoor\u001b[0m \u001b[1;33m=\u001b[0m \u001b[0mnp\u001b[0m\u001b[1;33m.\u001b[0m\u001b[0mcorrcoef\u001b[0m\u001b[1;33m(\u001b[0m\u001b[0mnp\u001b[0m\u001b[1;33m.\u001b[0m\u001b[0marray\u001b[0m\u001b[1;33m(\u001b[0m\u001b[0mtrain_x\u001b[0m\u001b[1;33m)\u001b[0m\u001b[1;33m.\u001b[0m\u001b[0mastype\u001b[0m\u001b[1;33m(\u001b[0m\u001b[0mnp\u001b[0m\u001b[1;33m.\u001b[0m\u001b[0mfloat\u001b[0m\u001b[1;33m)\u001b[0m\u001b[1;33m,\u001b[0m \u001b[0mnp\u001b[0m\u001b[1;33m.\u001b[0m\u001b[0marray\u001b[0m\u001b[1;33m(\u001b[0m\u001b[0mtest_x\u001b[0m\u001b[1;33m)\u001b[0m\u001b[1;33m.\u001b[0m\u001b[0mastype\u001b[0m\u001b[1;33m(\u001b[0m\u001b[0mnp\u001b[0m\u001b[1;33m.\u001b[0m\u001b[0mfloat\u001b[0m\u001b[1;33m)\u001b[0m\u001b[1;33m)\u001b[0m\u001b[1;33m\u001b[0m\u001b[0m\n\u001b[0m",
      "\u001b[1;32mc:\\users\\dinmuhametov salavat\\appdata\\local\\programs\\python\\python36\\lib\\site-packages\\numpy\\lib\\function_base.py\u001b[0m in \u001b[0;36mcorrcoef\u001b[1;34m(x, y, rowvar, bias, ddof)\u001b[0m\n\u001b[0;32m   2390\u001b[0m         warnings.warn('bias and ddof have no effect and are deprecated',\n\u001b[0;32m   2391\u001b[0m                       DeprecationWarning, stacklevel=2)\n\u001b[1;32m-> 2392\u001b[1;33m     \u001b[0mc\u001b[0m \u001b[1;33m=\u001b[0m \u001b[0mcov\u001b[0m\u001b[1;33m(\u001b[0m\u001b[0mx\u001b[0m\u001b[1;33m,\u001b[0m \u001b[0my\u001b[0m\u001b[1;33m,\u001b[0m \u001b[0mrowvar\u001b[0m\u001b[1;33m)\u001b[0m\u001b[1;33m\u001b[0m\u001b[0m\n\u001b[0m\u001b[0;32m   2393\u001b[0m     \u001b[1;32mtry\u001b[0m\u001b[1;33m:\u001b[0m\u001b[1;33m\u001b[0m\u001b[0m\n\u001b[0;32m   2394\u001b[0m         \u001b[0md\u001b[0m \u001b[1;33m=\u001b[0m \u001b[0mdiag\u001b[0m\u001b[1;33m(\u001b[0m\u001b[0mc\u001b[0m\u001b[1;33m)\u001b[0m\u001b[1;33m\u001b[0m\u001b[0m\n",
      "\u001b[1;32mc:\\users\\dinmuhametov salavat\\appdata\\local\\programs\\python\\python36\\lib\\site-packages\\numpy\\lib\\function_base.py\u001b[0m in \u001b[0;36mcov\u001b[1;34m(m, y, rowvar, bias, ddof, fweights, aweights)\u001b[0m\n\u001b[0;32m   2259\u001b[0m         \u001b[1;32mif\u001b[0m \u001b[1;32mnot\u001b[0m \u001b[0mrowvar\u001b[0m \u001b[1;32mand\u001b[0m \u001b[0my\u001b[0m\u001b[1;33m.\u001b[0m\u001b[0mshape\u001b[0m\u001b[1;33m[\u001b[0m\u001b[1;36m0\u001b[0m\u001b[1;33m]\u001b[0m \u001b[1;33m!=\u001b[0m \u001b[1;36m1\u001b[0m\u001b[1;33m:\u001b[0m\u001b[1;33m\u001b[0m\u001b[0m\n\u001b[0;32m   2260\u001b[0m             \u001b[0my\u001b[0m \u001b[1;33m=\u001b[0m \u001b[0my\u001b[0m\u001b[1;33m.\u001b[0m\u001b[0mT\u001b[0m\u001b[1;33m\u001b[0m\u001b[0m\n\u001b[1;32m-> 2261\u001b[1;33m         \u001b[0mX\u001b[0m \u001b[1;33m=\u001b[0m \u001b[0mnp\u001b[0m\u001b[1;33m.\u001b[0m\u001b[0mconcatenate\u001b[0m\u001b[1;33m(\u001b[0m\u001b[1;33m(\u001b[0m\u001b[0mX\u001b[0m\u001b[1;33m,\u001b[0m \u001b[0my\u001b[0m\u001b[1;33m)\u001b[0m\u001b[1;33m,\u001b[0m \u001b[0maxis\u001b[0m\u001b[1;33m=\u001b[0m\u001b[1;36m0\u001b[0m\u001b[1;33m)\u001b[0m\u001b[1;33m\u001b[0m\u001b[0m\n\u001b[0m\u001b[0;32m   2262\u001b[0m \u001b[1;33m\u001b[0m\u001b[0m\n\u001b[0;32m   2263\u001b[0m     \u001b[1;32mif\u001b[0m \u001b[0mddof\u001b[0m \u001b[1;32mis\u001b[0m \u001b[1;32mNone\u001b[0m\u001b[1;33m:\u001b[0m\u001b[1;33m\u001b[0m\u001b[0m\n",
      "\u001b[1;31mValueError\u001b[0m: all the input array dimensions except for the concatenation axis must match exactly"
     ]
    }
   ],
   "source": [
    "coor = np.corrcoef(np.array(train_x).astype(np.float), np.array(test_x).astype(np.float))"
   ]
  },
  {
   "cell_type": "code",
   "execution_count": 59,
   "metadata": {},
   "outputs": [
    {
     "data": {
      "text/plain": [
       "array([], dtype=float64)"
      ]
     },
     "execution_count": 59,
     "metadata": {},
     "output_type": "execute_result"
    }
   ],
   "source": [
    "np.array(train_x).astype(np.float)"
   ]
  },
  {
   "cell_type": "code",
   "execution_count": null,
   "metadata": {},
   "outputs": [],
   "source": [
    "np.array(test_x).astype(np.float)"
   ]
  },
  {
   "cell_type": "code",
   "execution_count": 32,
   "metadata": {},
   "outputs": [
    {
     "ename": "NameError",
     "evalue": "name 'test_x' is not defined",
     "output_type": "error",
     "traceback": [
      "\u001b[1;31m---------------------------------------------------------------------------\u001b[0m",
      "\u001b[1;31mNameError\u001b[0m                                 Traceback (most recent call last)",
      "\u001b[1;32m<ipython-input-32-391fbbdfd295>\u001b[0m in \u001b[0;36m<module>\u001b[1;34m\u001b[0m\n\u001b[1;32m----> 1\u001b[1;33m \u001b[0mtest_x\u001b[0m\u001b[1;33m\u001b[0m\u001b[0m\n\u001b[0m",
      "\u001b[1;31mNameError\u001b[0m: name 'test_x' is not defined"
     ]
    }
   ],
   "source": [
    "test_x"
   ]
  },
  {
   "cell_type": "code",
   "execution_count": null,
   "metadata": {},
   "outputs": [],
   "source": [
    "np.array([coor[i][-1] for i in range(len(coor))]).mean()"
   ]
  },
  {
   "cell_type": "code",
   "execution_count": null,
   "metadata": {},
   "outputs": [],
   "source": [
    "#множественный r\n",
    "def get_coor_coef(train_x, train_y):\n",
    "    coor = np.corrcoef(np.array(train_x).astype(np.float), np.array(train_y).astype(np.float))\n",
    "    return np.array([coor[i][-1] for i in range(len(coor))]).mean()"
   ]
  },
  {
   "cell_type": "code",
   "execution_count": 33,
   "metadata": {},
   "outputs": [],
   "source": [
    "def get_r_sq(train_x, train_y):\n",
    "    scores = [r2_score(np.array(test_x).astype(np.float64), np.array(train_x[i]).astype(np.float64)) for i in range(len(train_x))]\n",
    "    return sum(scores)/len(scores)"
   ]
  },
  {
   "cell_type": "code",
   "execution_count": 34,
   "metadata": {},
   "outputs": [
    {
     "name": "stdout",
     "output_type": "stream",
     "text": [
      "3\n"
     ]
    }
   ],
   "source": [
    "sq = np.array([[1, 3], [3,4]])-np.array([2, 4])\n",
    "ss1 = sum(sum([it**2 for it in sq]))\n",
    "print(ss1)"
   ]
  },
  {
   "cell_type": "code",
   "execution_count": 35,
   "metadata": {},
   "outputs": [
    {
     "ename": "NameError",
     "evalue": "name 'train_x' is not defined",
     "output_type": "error",
     "traceback": [
      "\u001b[1;31m---------------------------------------------------------------------------\u001b[0m",
      "\u001b[1;31mNameError\u001b[0m                                 Traceback (most recent call last)",
      "\u001b[1;32m<ipython-input-35-02055641dbce>\u001b[0m in \u001b[0;36m<module>\u001b[1;34m\u001b[0m\n\u001b[1;32m----> 1\u001b[1;33m \u001b[0mscores\u001b[0m \u001b[1;33m=\u001b[0m \u001b[1;33m[\u001b[0m\u001b[0mr2_score\u001b[0m\u001b[1;33m(\u001b[0m\u001b[0mnp\u001b[0m\u001b[1;33m.\u001b[0m\u001b[0marray\u001b[0m\u001b[1;33m(\u001b[0m\u001b[0mtest_x\u001b[0m\u001b[1;33m)\u001b[0m\u001b[1;33m.\u001b[0m\u001b[0mastype\u001b[0m\u001b[1;33m(\u001b[0m\u001b[0mnp\u001b[0m\u001b[1;33m.\u001b[0m\u001b[0mfloat64\u001b[0m\u001b[1;33m)\u001b[0m\u001b[1;33m,\u001b[0m \u001b[0mnp\u001b[0m\u001b[1;33m.\u001b[0m\u001b[0marray\u001b[0m\u001b[1;33m(\u001b[0m\u001b[0mtrain_x\u001b[0m\u001b[1;33m[\u001b[0m\u001b[0mi\u001b[0m\u001b[1;33m]\u001b[0m\u001b[1;33m)\u001b[0m\u001b[1;33m.\u001b[0m\u001b[0mastype\u001b[0m\u001b[1;33m(\u001b[0m\u001b[0mnp\u001b[0m\u001b[1;33m.\u001b[0m\u001b[0mfloat64\u001b[0m\u001b[1;33m)\u001b[0m\u001b[1;33m)\u001b[0m \u001b[1;32mfor\u001b[0m \u001b[0mi\u001b[0m \u001b[1;32min\u001b[0m \u001b[0mrange\u001b[0m\u001b[1;33m(\u001b[0m\u001b[0mlen\u001b[0m\u001b[1;33m(\u001b[0m\u001b[0mtrain_x\u001b[0m\u001b[1;33m)\u001b[0m\u001b[1;33m)\u001b[0m\u001b[1;33m]\u001b[0m\u001b[1;33m\u001b[0m\u001b[0m\n\u001b[0m",
      "\u001b[1;31mNameError\u001b[0m: name 'train_x' is not defined"
     ]
    }
   ],
   "source": [
    "scores = [r2_score(np.array(test_x).astype(np.float64), np.array(train_x[i]).astype(np.float64)) for i in range(len(train_x))]"
   ]
  },
  {
   "cell_type": "code",
   "execution_count": 36,
   "metadata": {},
   "outputs": [
    {
     "ename": "NameError",
     "evalue": "name 'scores' is not defined",
     "output_type": "error",
     "traceback": [
      "\u001b[1;31m---------------------------------------------------------------------------\u001b[0m",
      "\u001b[1;31mNameError\u001b[0m                                 Traceback (most recent call last)",
      "\u001b[1;32m<ipython-input-36-e5c9ba12af42>\u001b[0m in \u001b[0;36m<module>\u001b[1;34m\u001b[0m\n\u001b[1;32m----> 1\u001b[1;33m \u001b[0mprint\u001b[0m\u001b[1;33m(\u001b[0m\u001b[0msum\u001b[0m\u001b[1;33m(\u001b[0m\u001b[0mscores\u001b[0m\u001b[1;33m)\u001b[0m\u001b[1;33m/\u001b[0m\u001b[0mlen\u001b[0m\u001b[1;33m(\u001b[0m\u001b[0mscores\u001b[0m\u001b[1;33m)\u001b[0m\u001b[1;33m)\u001b[0m\u001b[1;33m\u001b[0m\u001b[0m\n\u001b[0m",
      "\u001b[1;31mNameError\u001b[0m: name 'scores' is not defined"
     ]
    }
   ],
   "source": [
    "print(sum(scores)/len(scores))"
   ]
  },
  {
   "cell_type": "code",
   "execution_count": 37,
   "metadata": {},
   "outputs": [
    {
     "ename": "NameError",
     "evalue": "name 'test_x' is not defined",
     "output_type": "error",
     "traceback": [
      "\u001b[1;31m---------------------------------------------------------------------------\u001b[0m",
      "\u001b[1;31mNameError\u001b[0m                                 Traceback (most recent call last)",
      "\u001b[1;32m<ipython-input-37-b7cc406891cc>\u001b[0m in \u001b[0;36m<module>\u001b[1;34m\u001b[0m\n\u001b[1;32m----> 1\u001b[1;33m \u001b[0mnp\u001b[0m\u001b[1;33m.\u001b[0m\u001b[0marray\u001b[0m\u001b[1;33m(\u001b[0m\u001b[0mtest_x\u001b[0m\u001b[1;33m)\u001b[0m\u001b[1;33m.\u001b[0m\u001b[0mastype\u001b[0m\u001b[1;33m(\u001b[0m\u001b[0mnp\u001b[0m\u001b[1;33m.\u001b[0m\u001b[0mfloat64\u001b[0m\u001b[1;33m)\u001b[0m\u001b[1;33m.\u001b[0m\u001b[0mvar\u001b[0m\u001b[1;33m(\u001b[0m\u001b[1;33m)\u001b[0m\u001b[1;33m\u001b[0m\u001b[0m\n\u001b[0m",
      "\u001b[1;31mNameError\u001b[0m: name 'test_x' is not defined"
     ]
    }
   ],
   "source": [
    "np.array(test_x).astype(np.float64).var()"
   ]
  },
  {
   "cell_type": "code",
   "execution_count": 38,
   "metadata": {},
   "outputs": [],
   "source": [
    "#norm r\n",
    "def get_norm_r(r, n, p):\n",
    "    return 1-(1-p)*(n-1)/(n-p-1)"
   ]
  },
  {
   "cell_type": "code",
   "execution_count": 39,
   "metadata": {},
   "outputs": [
    {
     "ename": "NameError",
     "evalue": "name 'get_coor_coef' is not defined",
     "output_type": "error",
     "traceback": [
      "\u001b[1;31m---------------------------------------------------------------------------\u001b[0m",
      "\u001b[1;31mNameError\u001b[0m                                 Traceback (most recent call last)",
      "\u001b[1;32m<ipython-input-39-4c285a8c3457>\u001b[0m in \u001b[0;36m<module>\u001b[1;34m\u001b[0m\n\u001b[1;32m----> 1\u001b[1;33m \u001b[0mget_norm_r\u001b[0m\u001b[1;33m(\u001b[0m\u001b[0mget_coor_coef\u001b[0m\u001b[1;33m(\u001b[0m\u001b[0mtrain_x\u001b[0m\u001b[1;33m,\u001b[0m \u001b[0mtest_x\u001b[0m\u001b[1;33m)\u001b[0m\u001b[1;33m,\u001b[0m \u001b[0mlen\u001b[0m\u001b[1;33m(\u001b[0m\u001b[0mtrain_x\u001b[0m\u001b[1;33m)\u001b[0m\u001b[1;33m,\u001b[0m \u001b[0mlen\u001b[0m\u001b[1;33m(\u001b[0m\u001b[0mtrain_x\u001b[0m\u001b[1;33m)\u001b[0m\u001b[1;33m-\u001b[0m\u001b[0mlen\u001b[0m\u001b[1;33m(\u001b[0m\u001b[0mtrain_x\u001b[0m\u001b[1;33m[\u001b[0m\u001b[1;36m0\u001b[0m\u001b[1;33m]\u001b[0m\u001b[1;33m)\u001b[0m\u001b[1;33m)\u001b[0m\u001b[1;33m\u001b[0m\u001b[0m\n\u001b[0m",
      "\u001b[1;31mNameError\u001b[0m: name 'get_coor_coef' is not defined"
     ]
    }
   ],
   "source": [
    "get_norm_r(get_coor_coef(train_x, test_x), len(train_x), len(train_x)-len(train_x[0]))"
   ]
  },
  {
   "cell_type": "code",
   "execution_count": 40,
   "metadata": {},
   "outputs": [
    {
     "ename": "NameError",
     "evalue": "name 'train_x' is not defined",
     "output_type": "error",
     "traceback": [
      "\u001b[1;31m---------------------------------------------------------------------------\u001b[0m",
      "\u001b[1;31mNameError\u001b[0m                                 Traceback (most recent call last)",
      "\u001b[1;32m<ipython-input-40-0eaf6a5c5029>\u001b[0m in \u001b[0;36m<module>\u001b[1;34m\u001b[0m\n\u001b[1;32m----> 1\u001b[1;33m \u001b[0mstd\u001b[0m \u001b[1;33m=\u001b[0m \u001b[0mmath\u001b[0m\u001b[1;33m.\u001b[0m\u001b[0msqrt\u001b[0m\u001b[1;33m(\u001b[0m\u001b[0mnp\u001b[0m\u001b[1;33m.\u001b[0m\u001b[0marray\u001b[0m\u001b[1;33m(\u001b[0m\u001b[0mtrain_x\u001b[0m\u001b[1;33m)\u001b[0m\u001b[1;33m.\u001b[0m\u001b[0mastype\u001b[0m\u001b[1;33m(\u001b[0m\u001b[0mnp\u001b[0m\u001b[1;33m.\u001b[0m\u001b[0mfloat64\u001b[0m\u001b[1;33m)\u001b[0m\u001b[1;33m.\u001b[0m\u001b[0mvar\u001b[0m\u001b[1;33m(\u001b[0m\u001b[1;33m)\u001b[0m\u001b[1;33m)\u001b[0m\u001b[1;33m\u001b[0m\u001b[0m\n\u001b[0m",
      "\u001b[1;31mNameError\u001b[0m: name 'train_x' is not defined"
     ]
    }
   ],
   "source": [
    "std = math.sqrt(np.array(train_x).astype(np.float64).var())"
   ]
  },
  {
   "cell_type": "code",
   "execution_count": 41,
   "metadata": {},
   "outputs": [
    {
     "ename": "NameError",
     "evalue": "name 'std' is not defined",
     "output_type": "error",
     "traceback": [
      "\u001b[1;31m---------------------------------------------------------------------------\u001b[0m",
      "\u001b[1;31mNameError\u001b[0m                                 Traceback (most recent call last)",
      "\u001b[1;32m<ipython-input-41-19f50d59ea20>\u001b[0m in \u001b[0;36m<module>\u001b[1;34m\u001b[0m\n\u001b[1;32m----> 1\u001b[1;33m \u001b[0mprint\u001b[0m\u001b[1;33m(\u001b[0m\u001b[0mstd\u001b[0m\u001b[1;33m)\u001b[0m\u001b[1;33m\u001b[0m\u001b[0m\n\u001b[0m",
      "\u001b[1;31mNameError\u001b[0m: name 'std' is not defined"
     ]
    }
   ],
   "source": [
    "print(std)"
   ]
  },
  {
   "cell_type": "code",
   "execution_count": null,
   "metadata": {},
   "outputs": [],
   "source": []
  },
  {
   "cell_type": "code",
   "execution_count": null,
   "metadata": {},
   "outputs": [],
   "source": []
  },
  {
   "cell_type": "code",
   "execution_count": 42,
   "metadata": {},
   "outputs": [
    {
     "ename": "NameError",
     "evalue": "name 'x_money' is not defined",
     "output_type": "error",
     "traceback": [
      "\u001b[1;31m---------------------------------------------------------------------------\u001b[0m",
      "\u001b[1;31mNameError\u001b[0m                                 Traceback (most recent call last)",
      "\u001b[1;32m<ipython-input-42-46ee65bef97c>\u001b[0m in \u001b[0;36m<module>\u001b[1;34m\u001b[0m\n\u001b[1;32m----> 1\u001b[1;33m \u001b[0mnp_money\u001b[0m \u001b[1;33m=\u001b[0m \u001b[0mnp\u001b[0m\u001b[1;33m.\u001b[0m\u001b[0marray\u001b[0m\u001b[1;33m(\u001b[0m\u001b[0mx_money\u001b[0m\u001b[1;33m)\u001b[0m\u001b[1;33m.\u001b[0m\u001b[0mastype\u001b[0m\u001b[1;33m(\u001b[0m\u001b[0mnp\u001b[0m\u001b[1;33m.\u001b[0m\u001b[0mfloat64\u001b[0m\u001b[1;33m)\u001b[0m\u001b[1;33m\u001b[0m\u001b[0m\n\u001b[0m",
      "\u001b[1;31mNameError\u001b[0m: name 'x_money' is not defined"
     ]
    }
   ],
   "source": [
    "np_money = np.array(x_money).astype(np.float64)"
   ]
  },
  {
   "cell_type": "code",
   "execution_count": 43,
   "metadata": {},
   "outputs": [
    {
     "ename": "NameError",
     "evalue": "name 'np_money' is not defined",
     "output_type": "error",
     "traceback": [
      "\u001b[1;31m---------------------------------------------------------------------------\u001b[0m",
      "\u001b[1;31mNameError\u001b[0m                                 Traceback (most recent call last)",
      "\u001b[1;32m<ipython-input-43-01b6086c117b>\u001b[0m in \u001b[0;36m<module>\u001b[1;34m\u001b[0m\n\u001b[1;32m----> 1\u001b[1;33m \u001b[0mprint\u001b[0m\u001b[1;33m(\u001b[0m\u001b[0mnp_money\u001b[0m\u001b[1;33m.\u001b[0m\u001b[0mstd\u001b[0m\u001b[1;33m(\u001b[0m\u001b[1;33m)\u001b[0m\u001b[1;33m,\u001b[0m \u001b[0mnp_money\u001b[0m\u001b[1;33m.\u001b[0m\u001b[0mmean\u001b[0m\u001b[1;33m(\u001b[0m\u001b[1;33m)\u001b[0m\u001b[1;33m)\u001b[0m\u001b[1;33m\u001b[0m\u001b[0m\n\u001b[0m",
      "\u001b[1;31mNameError\u001b[0m: name 'np_money' is not defined"
     ]
    }
   ],
   "source": [
    "print(np_money.std(), np_money.mean())"
   ]
  },
  {
   "cell_type": "code",
   "execution_count": 44,
   "metadata": {},
   "outputs": [
    {
     "ename": "NameError",
     "evalue": "name 'np_money' is not defined",
     "output_type": "error",
     "traceback": [
      "\u001b[1;31m---------------------------------------------------------------------------\u001b[0m",
      "\u001b[1;31mNameError\u001b[0m                                 Traceback (most recent call last)",
      "\u001b[1;32m<ipython-input-44-4153edf97107>\u001b[0m in \u001b[0;36m<module>\u001b[1;34m\u001b[0m\n\u001b[1;32m----> 1\u001b[1;33m \u001b[0mnp_money\u001b[0m\u001b[1;33m\u001b[0m\u001b[0m\n\u001b[0m",
      "\u001b[1;31mNameError\u001b[0m: name 'np_money' is not defined"
     ]
    }
   ],
   "source": [
    "np_money"
   ]
  },
  {
   "cell_type": "code",
   "execution_count": 63,
   "metadata": {},
   "outputs": [],
   "source": [
    "def get_info():\n",
    "    return 0.99"
   ]
  },
  {
   "cell_type": "code",
   "execution_count": null,
   "metadata": {},
   "outputs": [],
   "source": []
  },
  {
   "cell_type": "code",
   "execution_count": 68,
   "metadata": {},
   "outputs": [],
   "source": [
    "import xlwt\n",
    "from datetime import datetime\n",
    "\n",
    "url = 'https://www.avito.ru/rossiya/avtomobili/s_probegom/skoda/octavia?s_trg=4&f=187_867-869.1374_0b15830'\n",
    "\n",
    "style0 = xlwt.easyxf('font: name Times New Roman, color-index red, bold on',\n",
    "    num_format_str='#,##0.00')\n",
    "style1 = xlwt.easyxf(num_format_str='D-MMM-YY')\n",
    "\n",
    "wb = xlwt.Workbook()\n",
    "ws = wb.add_sheet('Report analogs')\n",
    "\n",
    "reg_labes = [\"Регрессионная статистика\", \"Множественный R\", \"R-квадрат\", \"Нормированный R-квадрат\", \"Стандартная ошибка\", \"Наблюдения\", \"Аналоги\"]\n",
    "for i in range(len(reg_labes)):\n",
    "    ws.write(i, 0, reg_labes[i])\n",
    "ws.write(1,1,get_info())\n",
    "ws.write(2,1,get_info())\n",
    "ws.write(3,1,get_info())\n",
    "ws.write(4,1,get_info())\n",
    "ws.write(5,1,get_info())\n",
    "\n",
    "rows_info = get_date(tur)\n",
    "mark = 'skoda'\n",
    "model = 'octavia'\n",
    "\n",
    "labes = [\"#\", \"Mark\", \"Model\", \"Year\", \"Engine volume\", \"Mileage\", \"kpp\", \"Horse powers\", 'is_bitaya', \"url\"]\n",
    "#is_brouken,money[i],km,year[i], at,mt,amt,engine_v,house_power\n",
    "for i in range(len(labes)):\n",
    "    ws.write(7, i, labes[i])\n",
    "for i in len(range(rows_info)):\n",
    "    ws.write(7+i, 0, i+1)\n",
    "    ws.write(7+i, 1, mark)\n",
    "    ws.write(7+i, 2, model)\n",
    "    ws.write(7+i, 3, rows_info[i][3])\n",
    "    ws.write(7+i, 4, rows_info[i][7])\n",
    "    ws.write(7+i, 5, rows_info[i][2])\n",
    "    cur_kpp = 'AT'\n",
    "    if rows_info[i][4]==1:\n",
    "        rows_info[i][4] = 'AT'\n",
    "    if rows_info[i][5]==1:\n",
    "        rows_info[i][5] = 'MT'\n",
    "    if rows_info[i][6]==1:\n",
    "        rows_info[i][6] = 'AMT'\n",
    "    ws.write(7+i, 6, cur_kpp)\n",
    "    ws.write(7+i, 7, rows_info[i][8])\n",
    "    ws.write(7+i, 8, rows_info[i][9]\n",
    "\n",
    "\n",
    "wb.save('example.xls')"
   ]
  },
  {
   "cell_type": "code",
   "execution_count": 148,
   "metadata": {},
   "outputs": [
    {
     "name": "stderr",
     "output_type": "stream",
     "text": [
      "c:\\users\\dinmuhametov salavat\\appdata\\local\\programs\\python\\python36\\lib\\site-packages\\urllib3\\connectionpool.py:847: InsecureRequestWarning: Unverified HTTPS request is being made. Adding certificate verification is strongly advised. See: https://urllib3.readthedocs.io/en/latest/advanced-usage.html#ssl-warnings\n",
      "  InsecureRequestWarning)\n"
     ]
    },
    {
     "name": "stdout",
     "output_type": "stream",
     "text": [
      "[[0, '400000', 8580, '2014', 0, 1, 1, 1.8, 180, 'https://www.avito.ru/rostov-na-donu/avtomobili/skoda_octavia_2018_1580256110'], [0, '400000', 100000, '2014', 1, 0, 0, 1.8, 180, 'https://www.avito.ru/simferopol/avtomobili/skoda_octavia_2014_1004933135'], [0, '555000', 0, '2013', 1, 0, 0, 1.6, 110, 'https://www.avito.ru/mineralnye_vody/avtomobili/skoda_octavia_2018_1472680981'], [0, '400000', 89000, '2014', 1, 0, 0, 1.8, 180, 'https://www.avito.ru/moskva/avtomobili/skoda_octavia_2013_1648975099'], [0, '400000', 120000, '2014', 0, 1, 1, 1.2, 105, 'https://www.avito.ru/krasnoperekopsk/avtomobili/skoda_octavia_2014_1658740207'], [0, '400000', 122000, '2014', 1, 0, 0, 1.8, 152, 'https://www.avito.ru/kostroma/avtomobili/skoda_octavia_2011_1475209225'], [0, '400000', 132000, '2014', 0, 1, 1, 1.4, 122, 'https://www.avito.ru/novodvinsk/avtomobili/skoda_octavia_2010_1272542206'], [1, '425000', 240000, '2011', 1, 0, 0, 1.6, 100, 'https://www.avito.ru/sortavala/avtomobili/skoda_octavia_1999_1078492985'], [0, '400000', 210000, '2014', 1, 0, 0, 1.2, 105, 'https://www.avito.ru/moskva/avtomobili/skoda_octavia_2014_1409870648'], [0, '400000', 190000, '2014', 1, 0, 0, 1.4, 140, 'https://www.avito.ru/gubkin/avtomobili/skoda_octavia_2014_1041809085'], [0, '400000', 86000, '2014', 0, 1, 0, 1.6, 102, 'https://www.avito.ru/ekaterinburg/avtomobili/skoda_octavia_2012_1436953372'], [0, '400000', 150000, '2014', 1, 0, 0, 1.8, 152, 'https://www.avito.ru/staryy_oskol/avtomobili/skoda_octavia_2011_926507383'], [0, '400000', 220000, '2014', 1, 0, 0, 1.6, 110, 'https://www.avito.ru/staromyshastovskaya/avtomobili/skoda_octavia_2015_1391322968'], [0, '400000', 263528, '2014', 0, 1, 0, 1.4, 75, 'https://www.avito.ru/rostov-na-donu/avtomobili/skoda_octavia_2006_1300376574'], [0, '400000', 138000, '2014', 0, 1, 0, 1.6, 110, 'https://www.avito.ru/naro-fominsk/avtomobili/skoda_octavia_2016_1446181388'], [0, '400000', 150000, '2014', 1, 0, 0, 2.0, 150, 'https://www.avito.ru/tula/avtomobili/skoda_octavia_2008_947628904'], [0, '400000', 83000, '2014', 0, 1, 0, 1.6, 110, 'https://www.avito.ru/chelyabinsk/avtomobili/skoda_octavia_2014_1239423507'], [0, '400000', 194000, '2014', 0, 1, 0, 1.6, 102, 'https://www.avito.ru/vladimir/avtomobili/skoda_octavia_2012_1300614475'], [0, '400000', 350000, '2014', 0, 1, 0, 1.6, 101, 'https://www.avito.ru/tambov/avtomobili/skoda_octavia_1999_1242157916'], [0, '400000', 162000, '2014', 0, 1, 1, 1.8, 152, 'https://www.avito.ru/moskva/avtomobili/skoda_octavia_2011_1142952568'], [0, '400000', 260000, '2014', 0, 1, 0, 1.4, 75, 'https://www.avito.ru/voskresensk/avtomobili/skoda_octavia_2007_1697911776'], [0, '400000', 112049, '2014', 0, 1, 0, 1.4, 122, 'https://www.avito.ru/moskva/avtomobili/skoda_octavia_2011_1680383417'], [0, '400000', 91000, '2014', 0, 1, 0, 1.4, 140, 'https://www.avito.ru/voronezh/avtomobili/skoda_octavia_2015_1330865739'], [0, '400000', 160000, '2014', 1, 0, 0, 1.8, 152, 'https://www.avito.ru/moskva/avtomobili/skoda_octavia_2012_1717247691'], [0, '400000', 118000, '2014', 0, 1, 0, 1.6, 102, 'https://www.avito.ru/chelyabinsk/avtomobili/skoda_octavia_2012_1592224783'], [0, '400000', 128500, '2014', 1, 0, 0, 1.8, 150, 'https://www.avito.ru/moskva/avtomobili/skoda_octavia_2001_1009522250'], [0, '400000', 320000, '2014', 0, 1, 0, 1.6, 101, 'https://www.avito.ru/chusovoy/avtomobili/skoda_octavia_2001_1292843278'], [0, '400000', 142340, '2014', 0, 1, 0, 1.6, 102, 'https://www.avito.ru/petrozavodsk/avtomobili/skoda_octavia_2008_1416524386'], [0, '400000', 98000, '2014', 0, 1, 0, 1.6, 102, 'https://www.avito.ru/sterlitamak/avtomobili/skoda_octavia_2013_1239296022'], [0, '400000', 69000, '2014', 1, 0, 0, 1.6, 102, 'https://www.avito.ru/moskva/avtomobili/skoda_octavia_2012_1553018176'], [0, '400000', 226622, '2014', 0, 1, 1, 1.2, 105, 'https://www.avito.ru/yoshkar-ola/avtomobili/skoda_octavia_2013_1635396739'], [0, '400000', 68000, '2014', 0, 1, 1, 1.8, 152, 'https://www.avito.ru/moskva/avtomobili/skoda_octavia_2013_1117771580'], [0, '400000', 140000, '2014', 0, 1, 0, 1.4, 140, 'https://www.avito.ru/ishimbay/avtomobili/skoda_octavia_2013_1538822007'], [0, '400000', 187000, '2014', 1, 0, 0, 1.8, 150, 'https://www.avito.ru/orel/avtomobili/skoda_octavia_2003_1508675725'], [0, '400000', 93000, '2014', 0, 1, 0, 1.6, 102, 'https://www.avito.ru/izhevsk/avtomobili/skoda_octavia_2012_1696135843'], [0, '400000', 157000, '2014', 0, 1, 1, 1.8, 180, 'https://www.avito.ru/pavlovskiy_posad/avtomobili/skoda_octavia_2013_1305781015'], [0, '400000', 133500, '2014', 0, 1, 0, 1.6, 102, 'https://www.avito.ru/kumertau/avtomobili/skoda_octavia_2009_1499017315'], [0, '400000', 165000, '2014', 1, 0, 0, 1.6, 110, 'https://www.avito.ru/moskva/avtomobili/skoda_octavia_2014_576530515'], [0, '400000', 160000, '2014', 1, 0, 0, 1.6, 110, 'https://www.avito.ru/moskva/avtomobili/skoda_octavia_2015_1279568192'], [0, '400000', 108000, '2014', 0, 1, 0, 1.6, 102, 'https://www.avito.ru/nizhniy_novgorod/avtomobili/skoda_octavia_2008_1475539567'], [0, '400000', 106000, '2014', 0, 1, 0, 1.6, 102, 'https://www.avito.ru/georgievsk/avtomobili/skoda_octavia_2012_1569880197'], [0, '400000', 100000, '2014', 0, 1, 1, 1.4, 150, 'https://www.avito.ru/krasnodar/avtomobili/skoda_octavia_2016_1529578063'], [0, '400000', 160000, '2014', 1, 0, 0, 1.8, 180, 'https://www.avito.ru/klin/avtomobili/skoda_octavia_2013_1006505282'], [0, '400000', 113000, '2014', 1, 0, 0, 1.6, 102, 'https://www.avito.ru/kirovskaya_oblast_kirov/avtomobili/skoda_octavia_2011_1268265353'], [0, '400000', 43000, '2014', 0, 1, 0, 1.4, 140, 'https://www.avito.ru/krasnodar/avtomobili/skoda_octavia_2014_1363219052'], [0, '400000', 119000, '2014', 1, 0, 0, 1.8, 152, 'https://www.avito.ru/moskva/avtomobili/skoda_octavia_2013_1609003382'], [0, '400000', 115250, '2014', 1, 0, 0, 1.8, 152, 'https://www.avito.ru/moskva/avtomobili/skoda_octavia_2013_1438967048'], [0, '400000', 180000, '2014', 0, 1, 0, 1.6, 102, 'https://www.avito.ru/balashiha/avtomobili/skoda_octavia_2008_1397190115'], [0, '400000', 119000, '2014', 0, 1, 0, 1.6, 110, 'https://www.avito.ru/saratov/avtomobili/skoda_octavia_2016_1512010326'], [0, '400000', 179000, '2014', 0, 1, 0, 1.4, 75, 'https://www.avito.ru/balabanovo/avtomobili/skoda_octavia_2007_1149784538'], [0, '400000', 85000, '2014', 1, 0, 0, 1.6, 102, 'https://www.avito.ru/lipetsk/avtomobili/skoda_octavia_2009_1357094269'], [0, '400000', 82000, '2014', 1, 0, 0, 1.6, 110, 'https://www.avito.ru/ufa/avtomobili/skoda_octavia_2017_999330794'], [0, '400000', 104240, '2014', 1, 0, 0, 1.4, 140, 'https://www.avito.ru/lipetsk/avtomobili/skoda_octavia_2014_1670511533'], [0, '400000', 172000, '2014', 0, 1, 1, 1.4, 122, 'https://www.avito.ru/izhevsk/avtomobili/skoda_octavia_2010_1490805677']]\n"
     ]
    }
   ],
   "source": [
    "def get_date(url):\n",
    "    dt = http.request('GET', url)\n",
    "    soup = bf(dt.data, 'html.parser')\n",
    "    raw_data = [preparsing(d) for d in get_data(soup)]\n",
    "    x_money = [money_prepros(d) for d in get_money(soup)]\n",
    "    x_year = [year_prepros(d) for d in get_year(soup)]\n",
    "    urls = get_url(soup)\n",
    "    pre_data = create_train_x(x_money,x_year, raw_data)\n",
    "    new_shit = []\n",
    "    for i in range(len(urls)):\n",
    "        new_shit.append(pre_data[i])\n",
    "        new_shit[-1].append(urls[i])\n",
    "    \n",
    "    return new_shit\n",
    "print(get_date(tur))"
   ]
  },
  {
   "cell_type": "code",
   "execution_count": 115,
   "metadata": {},
   "outputs": [],
   "source": [
    "def get_url(soup):\n",
    "    base = 'https://www.avito.ru'\n",
    "    return [base + price['href'] for price in soup.find_all('a', {\"class\":\"item-description-title-link\"}, href=True)]"
   ]
  },
  {
   "cell_type": "code",
   "execution_count": 116,
   "metadata": {},
   "outputs": [
    {
     "name": "stderr",
     "output_type": "stream",
     "text": [
      "c:\\users\\dinmuhametov salavat\\appdata\\local\\programs\\python\\python36\\lib\\site-packages\\urllib3\\connectionpool.py:847: InsecureRequestWarning: Unverified HTTPS request is being made. Adding certificate verification is strongly advised. See: https://urllib3.readthedocs.io/en/latest/advanced-usage.html#ssl-warnings\n",
      "  InsecureRequestWarning)\n"
     ]
    },
    {
     "data": {
      "text/plain": [
       "['https://www.avito.ru/rostov-na-donu/avtomobili/skoda_octavia_2018_1580256110',\n",
       " 'https://www.avito.ru/simferopol/avtomobili/skoda_octavia_2014_1004933135',\n",
       " 'https://www.avito.ru/mineralnye_vody/avtomobili/skoda_octavia_2018_1472680981',\n",
       " 'https://www.avito.ru/moskva/avtomobili/skoda_octavia_2013_1648975099',\n",
       " 'https://www.avito.ru/krasnoperekopsk/avtomobili/skoda_octavia_2014_1658740207',\n",
       " 'https://www.avito.ru/kostroma/avtomobili/skoda_octavia_2011_1475209225',\n",
       " 'https://www.avito.ru/novodvinsk/avtomobili/skoda_octavia_2010_1272542206',\n",
       " 'https://www.avito.ru/sortavala/avtomobili/skoda_octavia_1999_1078492985',\n",
       " 'https://www.avito.ru/moskva/avtomobili/skoda_octavia_2014_1409870648',\n",
       " 'https://www.avito.ru/gubkin/avtomobili/skoda_octavia_2014_1041809085',\n",
       " 'https://www.avito.ru/ekaterinburg/avtomobili/skoda_octavia_2012_1436953372',\n",
       " 'https://www.avito.ru/staryy_oskol/avtomobili/skoda_octavia_2011_926507383',\n",
       " 'https://www.avito.ru/staromyshastovskaya/avtomobili/skoda_octavia_2015_1391322968',\n",
       " 'https://www.avito.ru/rostov-na-donu/avtomobili/skoda_octavia_2006_1300376574',\n",
       " 'https://www.avito.ru/naro-fominsk/avtomobili/skoda_octavia_2016_1446181388',\n",
       " 'https://www.avito.ru/tula/avtomobili/skoda_octavia_2008_947628904',\n",
       " 'https://www.avito.ru/chelyabinsk/avtomobili/skoda_octavia_2014_1239423507',\n",
       " 'https://www.avito.ru/vladimir/avtomobili/skoda_octavia_2012_1300614475',\n",
       " 'https://www.avito.ru/tambov/avtomobili/skoda_octavia_1999_1242157916',\n",
       " 'https://www.avito.ru/moskva/avtomobili/skoda_octavia_2011_1142952568',\n",
       " 'https://www.avito.ru/voskresensk/avtomobili/skoda_octavia_2007_1697911776',\n",
       " 'https://www.avito.ru/moskva/avtomobili/skoda_octavia_2011_1680383417',\n",
       " 'https://www.avito.ru/voronezh/avtomobili/skoda_octavia_2015_1330865739',\n",
       " 'https://www.avito.ru/moskva/avtomobili/skoda_octavia_2012_1717247691',\n",
       " 'https://www.avito.ru/chelyabinsk/avtomobili/skoda_octavia_2012_1592224783',\n",
       " 'https://www.avito.ru/moskva/avtomobili/skoda_octavia_2001_1009522250',\n",
       " 'https://www.avito.ru/chusovoy/avtomobili/skoda_octavia_2001_1292843278',\n",
       " 'https://www.avito.ru/petrozavodsk/avtomobili/skoda_octavia_2008_1416524386',\n",
       " 'https://www.avito.ru/sterlitamak/avtomobili/skoda_octavia_2013_1239296022',\n",
       " 'https://www.avito.ru/yoshkar-ola/avtomobili/skoda_octavia_2013_1635396739',\n",
       " 'https://www.avito.ru/moskva/avtomobili/skoda_octavia_2012_1553018176',\n",
       " 'https://www.avito.ru/moskva/avtomobili/skoda_octavia_2013_1117771580',\n",
       " 'https://www.avito.ru/ishimbay/avtomobili/skoda_octavia_2013_1538822007',\n",
       " 'https://www.avito.ru/orel/avtomobili/skoda_octavia_2003_1508675725',\n",
       " 'https://www.avito.ru/izhevsk/avtomobili/skoda_octavia_2012_1696135843',\n",
       " 'https://www.avito.ru/pavlovskiy_posad/avtomobili/skoda_octavia_2013_1305781015',\n",
       " 'https://www.avito.ru/kumertau/avtomobili/skoda_octavia_2009_1499017315',\n",
       " 'https://www.avito.ru/moskva/avtomobili/skoda_octavia_2014_576530515',\n",
       " 'https://www.avito.ru/moskva/avtomobili/skoda_octavia_2015_1279568192',\n",
       " 'https://www.avito.ru/nizhniy_novgorod/avtomobili/skoda_octavia_2008_1475539567',\n",
       " 'https://www.avito.ru/georgievsk/avtomobili/skoda_octavia_2012_1569880197',\n",
       " 'https://www.avito.ru/krasnodar/avtomobili/skoda_octavia_2016_1529578063',\n",
       " 'https://www.avito.ru/klin/avtomobili/skoda_octavia_2013_1006505282',\n",
       " 'https://www.avito.ru/kirovskaya_oblast_kirov/avtomobili/skoda_octavia_2011_1268265353',\n",
       " 'https://www.avito.ru/krasnodar/avtomobili/skoda_octavia_2014_1363219052',\n",
       " 'https://www.avito.ru/moskva/avtomobili/skoda_octavia_2013_1609003382',\n",
       " 'https://www.avito.ru/moskva/avtomobili/skoda_octavia_2013_1438967048',\n",
       " 'https://www.avito.ru/balashiha/avtomobili/skoda_octavia_2008_1397190115',\n",
       " 'https://www.avito.ru/saratov/avtomobili/skoda_octavia_2016_1512010326',\n",
       " 'https://www.avito.ru/balabanovo/avtomobili/skoda_octavia_2007_1149784538',\n",
       " 'https://www.avito.ru/ufa/avtomobili/skoda_octavia_2017_999330794',\n",
       " 'https://www.avito.ru/lipetsk/avtomobili/skoda_octavia_2014_1670511533',\n",
       " 'https://www.avito.ru/lipetsk/avtomobili/skoda_octavia_2009_1357094269',\n",
       " 'https://www.avito.ru/izhevsk/avtomobili/skoda_octavia_2010_1490805677']"
      ]
     },
     "execution_count": 116,
     "metadata": {},
     "output_type": "execute_result"
    }
   ],
   "source": [
    "tur = 'https://www.avito.ru/rossiya/avtomobili/skoda/octavia?s_trg=4&f=187_869-867.188_0b405242.1374_0b15830'\n",
    "dt = http.request('GET', tur)\n",
    "soupt = bf(dt.data, 'html.parser')\n",
    "(soupt)"
   ]
  },
  {
   "cell_type": "code",
   "execution_count": null,
   "metadata": {},
   "outputs": [],
   "source": []
  }
 ],
 "metadata": {
  "kernelspec": {
   "display_name": "Python 3",
   "language": "python",
   "name": "python3"
  },
  "language_info": {
   "codemirror_mode": {
    "name": "ipython",
    "version": 3
   },
   "file_extension": ".py",
   "mimetype": "text/x-python",
   "name": "python",
   "nbconvert_exporter": "python",
   "pygments_lexer": "ipython3",
   "version": "3.6.0"
  }
 },
 "nbformat": 4,
 "nbformat_minor": 2
}
