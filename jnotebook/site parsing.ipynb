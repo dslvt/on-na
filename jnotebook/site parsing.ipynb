{
 "cells": [
  {
   "cell_type": "code",
   "execution_count": 50,
   "metadata": {},
   "outputs": [],
   "source": [
    "from bs4 import BeautifulSoup as bf\n",
    "import urllib3\n",
    "import numpy as np\n",
    "from sklearn.metrics import r2_score\n",
    "import math\n",
    "%matplotlib inline "
   ]
  },
  {
   "cell_type": "code",
   "execution_count": null,
   "metadata": {},
   "outputs": [],
   "source": [
    "http = urllib3.PoolManager()\n",
    "r = http.request('GET', 'https://www.avito.ru/rossiya/avtomobili?s_trg=4&f=')\n",
    "soup = bf(r.data, 'html.parser')\n",
    "print(len([price.text for price in soup.find_all('span', {\"class\": \"price\"})]))"
   ]
  },
  {
   "cell_type": "code",
   "execution_count": null,
   "metadata": {},
   "outputs": [],
   "source": [
    "param = {\n",
    "    \"mark\":\"skoda\",\n",
    "    \"model\":\"octavia\",\n",
    "    \"body\":[\"sedan\", \"limusin\"],\n",
    "    \"engine\":[0.0, 6.0],\n",
    "    \"year\":[1960, 2019],\n",
    "    \n",
    "}\n"
   ]
  },
  {
   "cell_type": "code",
   "execution_count": null,
   "metadata": {},
   "outputs": [],
   "source": [
    "def get_avito_url(prm):\n",
    "    base = 'https://www.avito.ru/rossiya/avtomobili'\n",
    "    try:\n",
    "        base += \"/\"+ prm['mark']\n",
    "    except (KeyError, TypeError):\n",
    "        pass\n",
    "    try:\n",
    "        base += '/'+prm['model']\n",
    "    except (KeyError, TypeError):\n",
    "        pass\n",
    "    base += '?s_trg=4&f='\n",
    "    try:\n",
    "        base += get_type_range_url('body', prm['body'])\n",
    "    except (KeyError, TypeError):\n",
    "        pass\n",
    "    try:\n",
    "        base += '.'+get_range_url('year',prm['year'])\n",
    "    except (KeyError, TypeError):\n",
    "        pass\n",
    "    try:\n",
    "        base += '.'+get_type_range_url('kpp', prm['kpp'])\n",
    "    except (KeyError, TypeError):\n",
    "        pass\n",
    "    try:\n",
    "        base += '.'+get_range_url('engine', prm['engine'])\n",
    "    except (KeyError, TypeError):\n",
    "        pass\n",
    "    return base\n",
    "print(get_avito_url(param))"
   ]
  },
  {
   "cell_type": "code",
   "execution_count": null,
   "metadata": {},
   "outputs": [],
   "source": [
    "body + year + kpp + engine"
   ]
  },
  {
   "cell_type": "code",
   "execution_count": null,
   "metadata": {},
   "outputs": [],
   "source": [
    "def get_range_url(name, prms):\n",
    "    base = multiple_params[name]['base']\n",
    "    all_params = list(multiple_params[name])\n",
    "    a1, a2=-1,-1\n",
    "    for pr in all_params:\n",
    "        if pr != 'base':\n",
    "            if float(prms[0])<=float(pr):\n",
    "                a1 = multiple_params[name][pr]\n",
    "                break\n",
    "    for pr in all_params:\n",
    "        if pr != 'base':\n",
    "            if float(prms[1])<=float(pr):\n",
    "                a2 = multiple_params[name][pr]\n",
    "                break\n",
    "    return str(base)+'_'+str(a1)+'b'+str(a2)\n",
    "get_range_url('year', [2012,2019])"
   ]
  },
  {
   "cell_type": "code",
   "execution_count": null,
   "metadata": {},
   "outputs": [],
   "source": [
    "def get_type_range_url(name, prms):\n",
    "    first, second = multiple_params[name][prms[0]], multiple_params[name][prms[1]]\n",
    "    base = multiple_params[name]['base']\n",
    "    return str(base)+'_'+str(first)+'-'+str(second)\n",
    "print(get_type_range_url('kpp', ['mechanika', 'robot']))"
   ]
  },
  {
   "cell_type": "code",
   "execution_count": null,
   "metadata": {},
   "outputs": [],
   "source": [
    "multiple_params = {\n",
    "   'kpp':{\n",
    "       'base':185,\n",
    "       'mechanika':861,\n",
    "       'avtomat':860,\n",
    "       'robot':14754,\n",
    "       'vibator':14753,\n",
    "       },\n",
    "    'year':{\n",
    "        'base':188,\n",
    "        '1960':0,\n",
    "        '1970':782,\n",
    "        '2012':6045,\n",
    "        '2019':405242,\n",
    "    },\n",
    "    'body':{\n",
    "        'base':187,\n",
    "        'sedan':869,\n",
    "        'limusin':867,\n",
    "        'chechbeck':872\n",
    "    },\n",
    "    'engine':{\n",
    "        'base':1374,\n",
    "        '0.0':0,\n",
    "        '0.6':15776,\n",
    "        '5.5':15825,\n",
    "        '6.0':15830\n",
    "    },\n",
    "    'mark':{\n",
    "        'skoda':['octavia', 'rapid'],\n",
    "        'vaz_lada':['kalina', 'granta'],\n",
    "        'kia':['rio','spectra']\n",
    "    },    \n",
    "}"
   ]
  },
  {
   "cell_type": "code",
   "execution_count": null,
   "metadata": {},
   "outputs": [],
   "source": [
    "np.corrcoef([[2,1, 123333],[2,1, 123333],[23,3, 2343234]], [2,1, 12])"
   ]
  },
  {
   "cell_type": "code",
   "execution_count": null,
   "metadata": {},
   "outputs": [],
   "source": [
    "ur = 'https://www.avito.ru/rossiya/avtomobili/skoda/octavia?s_trg=4&f=187_869-867.188_0b405242.1374_0b15830'\n",
    "\n",
    "dt = http.request('GET', ur)\n",
    "soup_in = bf(dt.data, 'html.parser')\n",
    "\n",
    "def get_data(soup):\n",
    "    return [price.text for price in soup.find_all('div', {\"class\": \"specific-params specific-params_block\"})]\n",
    "\n",
    "def get_money(soup):\n",
    "    return [price.text for price in soup.find_all('span', {\"class\": \"price\"})]\n",
    "\n",
    "def get_year(soup):\n",
    "    return [price.text for price in soup.find_all('a', {\"class\": \"item-description-title-link\"})]\n",
    "\n",
    "# shit = get_year()[:2]\n",
    "\n",
    "# shit = get_data('https://www.avito.ru/rossiya/avtomobili/s_probegom/skoda/octavia/bityy?s_trg=4&f=187_867-869.1374_0b15830')[:2]"
   ]
  },
  {
   "cell_type": "code",
   "execution_count": null,
   "metadata": {},
   "outputs": [],
   "source": [
    "raw_data = [preparsing(d) for d in get_data(soup_in)]\n",
    "x_money = [money_prepros(d) for d in get_money(soup_in)]\n",
    "x_year = [year_prepros(d) for d in get_year(soup_in)]\n",
    "print(len(raw_data), len(x_money), len(x_year))"
   ]
  },
  {
   "cell_type": "code",
   "execution_count": null,
   "metadata": {},
   "outputs": [],
   "source": [
    "def money_prepros(req):\n",
    "    return req.replace(' ', '').replace('\\n', '').replace('₽', '')\n",
    "def year_prepros(req):\n",
    "    return req.split(',')[1].replace(' ','')\n",
    "def preparsing(shit):\n",
    "    return [st.replace('\\xa0', ' ').replace('\\n', '').replace(' ', '') for st in shit.split(',')]"
   ]
  },
  {
   "cell_type": "code",
   "execution_count": null,
   "metadata": {},
   "outputs": [],
   "source": [
    "#dispersa_anal\n",
    "#bitaya 1, 0\n",
    "#priceK\n",
    "#milescore\n",
    "#year\n",
    "#dvigatel"
   ]
  },
  {
   "cell_type": "code",
   "execution_count": null,
   "metadata": {},
   "outputs": [],
   "source": [
    "def create_train_x(money, year, request):\n",
    "    train_x = []\n",
    "    for rq in request:\n",
    "        is_brouken = 0\n",
    "        km = 0\n",
    "        at,mt,amt=0,0,0\n",
    "        house_power = 0\n",
    "        engine_v = 0\n",
    "        for i in range(len(rq)):\n",
    "            if rq[i].find('Битый') != -1:\n",
    "                is_brouken = 1\n",
    "            if rq[i].find('км') != -1:\n",
    "                km = int(rq[i].replace('км', ''))\n",
    "            if rq[i].find('AT') != -1:\n",
    "                at=1\n",
    "            if rq[i].find('MT') != -1:\n",
    "                mt=1\n",
    "            if rq[i].find('AMT') != -1:\n",
    "                amt=1\n",
    "            if rq[i].find('л.с.') != -1:\n",
    "                house_power = int(rq[i][rq[i].find('(')+1:rq[i].find('л')])\n",
    "                engine_v = float(rq[i][rq[i].find('.')-1:rq[i].find('.')+2])\n",
    "            if money[i] == 0 or year[i] == 0 or house_power==0 or engine_v==0 or km==0:\n",
    "                continue\n",
    "        train_x.append([is_brouken,money[i],km,year[i], at,mt,amt,engine_v,house_power])\n",
    "    return train_x\n",
    "\n",
    "create_train_x(x_money, x_year, raw_data)"
   ]
  },
  {
   "cell_type": "code",
   "execution_count": null,
   "metadata": {},
   "outputs": [],
   "source": [
    "train_x = create_train_x(x_money, x_year, raw_data)\n",
    "test_x = [0, 250000, 128500, 2001,1,0,0,1.8,150]"
   ]
  },
  {
   "cell_type": "code",
   "execution_count": null,
   "metadata": {},
   "outputs": [],
   "source": [
    "coor = np.corrcoef(np.array(train_x).astype(np.float), np.array(test_x).astype(np.float))"
   ]
  },
  {
   "cell_type": "code",
   "execution_count": null,
   "metadata": {},
   "outputs": [],
   "source": [
    "np.array(train_x).astype(np.float)"
   ]
  },
  {
   "cell_type": "code",
   "execution_count": null,
   "metadata": {},
   "outputs": [],
   "source": [
    "np.array(test_x).astype(np.float)"
   ]
  },
  {
   "cell_type": "code",
   "execution_count": null,
   "metadata": {},
   "outputs": [],
   "source": [
    "test_x"
   ]
  },
  {
   "cell_type": "code",
   "execution_count": null,
   "metadata": {},
   "outputs": [],
   "source": [
    "np.array([coor[i][-1] for i in range(len(coor))]).mean()"
   ]
  },
  {
   "cell_type": "code",
   "execution_count": null,
   "metadata": {},
   "outputs": [],
   "source": [
    "#множественный r\n",
    "def get_coor_coef(train_x, train_y):\n",
    "    coor = np.corrcoef(np.array(train_x).astype(np.float), np.array(train_y).astype(np.float))\n",
    "    return np.array([coor[i][-1] for i in range(len(coor))]).mean()"
   ]
  },
  {
   "cell_type": "code",
   "execution_count": null,
   "metadata": {},
   "outputs": [],
   "source": [
    "def get_r_sq(train_x, train_y):\n",
    "    scores = [r2_score(np.array(test_x).astype(np.float64), np.array(train_x[i]).astype(np.float64)) for i in range(len(train_x))]\n",
    "    return sum(scores)/len(scores)"
   ]
  },
  {
   "cell_type": "code",
   "execution_count": null,
   "metadata": {},
   "outputs": [],
   "source": [
    "sq = np.array([[1, 3], [3,4]])-np.array([2, 4])\n",
    "ss1 = sum(sum([it**2 for it in sq]))\n",
    "print(ss1)"
   ]
  },
  {
   "cell_type": "code",
   "execution_count": null,
   "metadata": {},
   "outputs": [],
   "source": [
    "scores = [r2_score(np.array(test_x).astype(np.float64), np.array(train_x[i]).astype(np.float64)) for i in range(len(train_x))]"
   ]
  },
  {
   "cell_type": "code",
   "execution_count": null,
   "metadata": {},
   "outputs": [],
   "source": [
    "print(sum(scores)/len(scores))"
   ]
  },
  {
   "cell_type": "code",
   "execution_count": null,
   "metadata": {},
   "outputs": [],
   "source": [
    "np.array(test_x).astype(np.float64).var()"
   ]
  },
  {
   "cell_type": "code",
   "execution_count": null,
   "metadata": {},
   "outputs": [],
   "source": [
    "#norm r\n",
    "def get_norm_r(r, n, p):\n",
    "    return 1-(1-p)*(n-1)/(n-p-1)"
   ]
  },
  {
   "cell_type": "code",
   "execution_count": null,
   "metadata": {},
   "outputs": [],
   "source": [
    "get_norm_r(get_coor_coef(train_x, test_x), len(train_x), len(train_x)-len(train_x[0]))"
   ]
  },
  {
   "cell_type": "code",
   "execution_count": null,
   "metadata": {},
   "outputs": [],
   "source": [
    "std = math.sqrt(np.array(train_x).astype(np.float64).var())"
   ]
  },
  {
   "cell_type": "code",
   "execution_count": null,
   "metadata": {},
   "outputs": [],
   "source": [
    "print(std)"
   ]
  },
  {
   "cell_type": "code",
   "execution_count": null,
   "metadata": {},
   "outputs": [],
   "source": []
  },
  {
   "cell_type": "code",
   "execution_count": null,
   "metadata": {},
   "outputs": [],
   "source": []
  },
  {
   "cell_type": "code",
   "execution_count": null,
   "metadata": {},
   "outputs": [],
   "source": [
    "np_money = np.array(x_money).astype(np.float64)"
   ]
  },
  {
   "cell_type": "code",
   "execution_count": null,
   "metadata": {},
   "outputs": [],
   "source": [
    "print(np_money.std(), np_money.mean())"
   ]
  },
  {
   "cell_type": "code",
   "execution_count": null,
   "metadata": {},
   "outputs": [],
   "source": [
    "np_money"
   ]
  },
  {
   "cell_type": "code",
   "execution_count": null,
   "metadata": {},
   "outputs": [],
   "source": [
    "def get_info():\n",
    "    return 0.99"
   ]
  },
  {
   "cell_type": "code",
   "execution_count": null,
   "metadata": {},
   "outputs": [],
   "source": []
  },
  {
   "cell_type": "code",
   "execution_count": null,
   "metadata": {},
   "outputs": [],
   "source": [
    "import xlwt\n",
    "from datetime import datetime\n",
    "\n",
    "url = 'https://www.avito.ru/rossiya/avtomobili/s_probegom/skoda/octavia?s_trg=4&f=187_867-869.1374_0b15830'\n",
    "\n",
    "style0 = xlwt.easyxf('font: name Times New Roman, color-index red, bold on',\n",
    "    num_format_str='#,##0.00')\n",
    "style1 = xlwt.easyxf(num_format_str='D-MMM-YY')\n",
    "\n",
    "wb = xlwt.Workbook()\n",
    "ws = wb.add_sheet('Report analogs')\n",
    "\n",
    "reg_labes = [\"Регрессионная статистика\", \"Множественный R\", \"R-квадрат\", \"Нормированный R-квадрат\", \"Стандартная ошибка\", \"Наблюдения\", \"Аналоги\"]\n",
    "for i in range(len(reg_labes)):\n",
    "    ws.write(i, 0, reg_labes[i])\n",
    "ws.write(1,1,get_info())\n",
    "ws.write(2,1,get_info())\n",
    "ws.write(3,1,get_info())\n",
    "ws.write(4,1,get_info())\n",
    "ws.write(5,1,get_info())\n",
    "\n",
    "rows_info = get_date(tur)\n",
    "mark = 'skoda'\n",
    "model = 'octavia'\n",
    "\n",
    "labes = [\"#\", \"Mark\", \"Model\", \"Year\", \"Engine volume\", \"Mileage\", \"kpp\", \"Horse powers\", 'is_bitaya', \"url\"]\n",
    "#is_brouken,money[i],km,year[i], at,mt,amt,engine_v,house_power\n",
    "for i in range(len(labes)):\n",
    "    ws.write(7, i, labes[i])\n",
    "for i in range(len(rows_info)):\n",
    "    ws.write(8+i, 0, i+1)\n",
    "    ws.write(8+i, 1, mark)\n",
    "    ws.write(8+i, 2, model)\n",
    "    ws.write(8+i, 3, rows_info[i][3])\n",
    "    ws.write(8+i, 4, rows_info[i][7])\n",
    "    ws.write(8+i, 5, rows_info[i][2])\n",
    "    cur_kpp = 'MT'\n",
    "    if rows_info[i][4]==1:\n",
    "        rows_info[i][4] = 'AT'\n",
    "    if rows_info[i][5]==1:\n",
    "        rows_info[i][5] = 'MT'\n",
    "    if rows_info[i][6]==1:\n",
    "        rows_info[i][6] = 'AMT'\n",
    "    ws.write(8+i, 6, cur_kpp)\n",
    "    ws.write(8+i, 7, rows_info[i][8])\n",
    "    ws.write(8+i, 8, rows_info[i][9])\n",
    "\n",
    "\n",
    "wb.save('example.xls')"
   ]
  },
  {
   "cell_type": "code",
   "execution_count": null,
   "metadata": {},
   "outputs": [],
   "source": [
    "def get_date(url):\n",
    "    dt = http.request('GET', url)\n",
    "    soup = bf(dt.data, 'html.parser')\n",
    "    raw_data = [preparsing(d) for d in get_data(soup)]\n",
    "    x_money = [money_prepros(d) for d in get_money(soup)]\n",
    "    x_year = [year_prepros(d) for d in get_year(soup)]\n",
    "    urls = get_url(soup)\n",
    "    pre_data = create_train_x(x_money,x_year, raw_data)\n",
    "    new_shit = []\n",
    "    for i in range(len(urls)):\n",
    "        new_shit.append(pre_data[i])\n",
    "        new_shit[-1].append(urls[i])\n",
    "    \n",
    "    return new_shit\n",
    "print(get_date(tur))"
   ]
  },
  {
   "cell_type": "code",
   "execution_count": null,
   "metadata": {},
   "outputs": [],
   "source": [
    "def get_url(soup):\n",
    "    base = 'https://www.avito.ru'\n",
    "    return [base + price['href'] for price in soup.find_all('a', {\"class\":\"item-description-title-link\"}, href=True)]"
   ]
  },
  {
   "cell_type": "code",
   "execution_count": null,
   "metadata": {},
   "outputs": [],
   "source": [
    "tur = 'https://www.avito.ru/rossiya/avtomobili/skoda/octavia?s_trg=4&f=187_869-867.188_0b405242.1374_0b15830'\n",
    "dt = http.request('GET', tur)\n",
    "soupt = bf(dt.data, 'html.parser')\n",
    "(soupt)"
   ]
  },
  {
   "cell_type": "code",
   "execution_count": 6,
   "metadata": {},
   "outputs": [],
   "source": [
    "import matplotlib.pyplot as plt"
   ]
  },
  {
   "cell_type": "code",
   "execution_count": 4,
   "metadata": {},
   "outputs": [
    {
     "name": "stderr",
     "output_type": "stream",
     "text": [
      "c:\\users\\dinmuhametov salavat\\appdata\\local\\programs\\python\\python36\\lib\\site-packages\\urllib3\\connectionpool.py:847: InsecureRequestWarning: Unverified HTTPS request is being made. Adding certificate verification is strongly advised. See: https://urllib3.readthedocs.io/en/latest/advanced-usage.html#ssl-warnings\n",
      "  InsecureRequestWarning)\n"
     ]
    }
   ],
   "source": [
    "tsoup = get_html_from_avito(qr)\n",
    "train_x = create_train_data(tsoup)\n",
    "user_data = [0, qr['u_price'], qr['u_mileage'], qr['u_year'], 0,1,0,qr['u_eng'],qr['u_h_power']]"
   ]
  },
  {
   "cell_type": "code",
   "execution_count": 53,
   "metadata": {},
   "outputs": [
    {
     "data": {
      "text/plain": [
       "(array([ 4.,  0.,  4., 17., 10.,  9.,  8.,  1.,  0.,  1.]),\n",
       " array([1.220000e+02, 2.460990e+04, 4.909780e+04, 7.358570e+04,\n",
       "        9.807360e+04, 1.225615e+05, 1.470494e+05, 1.715373e+05,\n",
       "        1.960252e+05, 2.205131e+05, 2.450010e+05]),\n",
       " <a list of 10 Patch objects>)"
      ]
     },
     "execution_count": 53,
     "metadata": {},
     "output_type": "execute_result"
    },
    {
     "data": {
      "image/png": "[encoded data removed]",
      "text/plain": [
       "<Figure size 432x288 with 1 Axes>"
      ]
     },
     "metadata": {
      "needs_background": "light"
     },
     "output_type": "display_data"
    }
   ],
   "source": [
    "def hist_im(train_x, j):\n",
    "    price_val = []\n",
    "    for i in range(len(train_x)):\n",
    "        price_val.append(train_x[i][j])\n",
    "    label = ''\n",
    "    if j  == 2:\n",
    "        label = 'price'\n",
    "    pl = plt.hist(price_val)\n",
    "    pl[2][0].figure.savefig('as.png')\n",
    "    return pl\n",
    "\n",
    "hist_im(train_x, 2)"
   ]
  },
  {
   "cell_type": "code",
   "execution_count": 28,
   "metadata": {},
   "outputs": [
    {
     "data": {
      "text/plain": [
       "(array([ 6.,  0.,  0., 21., 12.,  0.,  2.,  0., 11.,  2.]),\n",
       " array([ 80.,  87.,  94., 101., 108., 115., 122., 129., 136., 143., 150.]),\n",
       " <a list of 10 Patch objects>)"
      ]
     },
     "execution_count": 28,
     "metadata": {},
     "output_type": "execute_result"
    },
    {
     "data": {
      "image/png": "[encoded data removed]",
      "text/plain": [
       "<Figure size 432x288 with 1 Axes>"
      ]
     },
     "metadata": {
      "needs_background": "light"
     },
     "output_type": "display_data"
    }
   ],
   "source": [
    "def engine_vol_hist(train_x):\n",
    "    price_val = []\n",
    "    for i in range(len(train_x)):\n",
    "        price_val.append(train_x[i][8])\n",
    "    return plt.hist(price_val)\n",
    "engine_vol_pie(train_x)"
   ]
  },
  {
   "cell_type": "code",
   "execution_count": 3,
   "metadata": {
    "collapsed": true
   },
   "outputs": [
    {
     "name": "stderr",
     "output_type": "stream",
     "text": [
      "c:\\users\\dinmuhametov salavat\\appdata\\local\\programs\\python\\python36\\lib\\site-packages\\urllib3\\connectionpool.py:847: InsecureRequestWarning: Unverified HTTPS request is being made. Adding certificate verification is strongly advised. See: https://urllib3.readthedocs.io/en/latest/advanced-usage.html#ssl-warnings\n",
      "  InsecureRequestWarning)\n"
     ]
    }
   ],
   "source": [
    "from bs4 import BeautifulSoup as bf\n",
    "import urllib3\n",
    "import numpy as np\n",
    "from sklearn.metrics import r2_score\n",
    "import xlwt\n",
    "from datetime import datetime\n",
    "import os\n",
    "\n",
    "qr = {\n",
    "    'mark':'skoda',\n",
    "    'model':'octavia', \n",
    "    'year':['2011','2018'],\n",
    "    'engine':['0.0', '1.6'], \n",
    "    'millage':[25,2500],\n",
    "    'kpp':'mechanika',\n",
    "    'u_price':'250000',\n",
    "    'u_mileage':'250000',\n",
    "    'u_year':'2012',\n",
    "    'u_eng':'1.6',\n",
    "    'u_h_power':100,\n",
    "    'email':'perfog@mail.ru'\n",
    "}\n",
    "\n",
    "tsoup = get_html_from_avito(qr)\n",
    "train_x = create_train_data(tsoup)\n",
    "user_data = [0, qr['u_price'], qr['u_mileage'], qr['u_year'], 0,1,0,qr['u_eng'],qr['u_h_power']]\n",
    "\n",
    "\n",
    "def sent_email(email):\n",
    "    msg = EmailMessage('Report','your_report', 'salavatarus@gmail.com',[email])\n",
    "    msg.attach_file('media/report.xls')\n",
    "    msg.send()\n",
    "\n",
    "\n",
    "def create_xls(qr,data,soup):\n",
    "\n",
    "    style0 = xlwt.easyxf('font: name Times New Roman, color-index red, bold on',\n",
    "        num_format_str='#,##0.00')\n",
    "    style1 = xlwt.easyxf(num_format_str='D-MMM-YY')\n",
    "\n",
    "    wb = xlwt.Workbook()\n",
    "    ws = wb.add_sheet('Report analogs')\n",
    "\n",
    "    reg_labes = [\"Регрессионная статистика\", \"Множественный R\", \"R-квадрат\", \"Нормированный R-квадрат\", \"Стандартная ошибка\", \"Наблюдения\", \"Аналоги\"]\n",
    "    for i in range(len(reg_labes)):\n",
    "        ws.write(i, 0, reg_labes[i])\n",
    "    ws.write(1,1,data['multi_r'])\n",
    "    ws.write(2,1,data['r_sqr'])\n",
    "    ws.write(3,1,data['norm_r'])\n",
    "    ws.write(4,1,data['std'])\n",
    "    ws.write(5,1,data['n'])\n",
    "\n",
    "    rows_info = get_date(soup)\n",
    "    mark = qr['mark']\n",
    "    model = qr['model']\n",
    "\n",
    "    labes = [\"#\", \"Mark\", \"Model\", \"Year\", \"Engine volume\", \"Mileage\", \"kpp\", \"Horse powers\", 'is_bitaya', \"url\"]\n",
    "    #is_brouken,money[i],km,year[i], at,mt,amt,engine_v,house_power\n",
    "    for i in range(len(labes)):\n",
    "        ws.write(7, i, labes[i])\n",
    "    for i in range(len(rows_info)):\n",
    "        ws.write(8+i, 0, i+1)\n",
    "        ws.write(8+i, 1, mark)\n",
    "        ws.write(8+i, 2, model)\n",
    "        ws.write(8+i, 3, rows_info[i][3])\n",
    "        ws.write(8+i, 4, rows_info[i][7])\n",
    "        ws.write(8+i, 5, rows_info[i][2])\n",
    "        cur_kpp = 'MT'\n",
    "        if rows_info[i][4]==1:\n",
    "            rows_info[i][4] = 'AT'\n",
    "        if rows_info[i][5]==1:\n",
    "            rows_info[i][5] = 'MT'\n",
    "        if rows_info[i][6]==1:\n",
    "            rows_info[i][6] = 'AMT'\n",
    "        ws.write(8+i, 6, cur_kpp)\n",
    "        ws.write(8+i, 7, rows_info[i][8])\n",
    "        ws.write(8+i, 8, rows_info[i][9])\n",
    "    file_location = './media/report.xls'\n",
    "    wb.save(file_location)\n",
    "    print(os.path.join(settings.MEDIA_ROOT, 'report.xls'))\n",
    "    return os.path.join(settings.MEDIA_ROOT, 'report.xls')\n",
    "\n",
    "def get_date(soup):\n",
    "    raw_data = [preparsing(d) for d in get_data(soup)]\n",
    "    x_money = [money_prepros(d) for d in get_money(soup)]\n",
    "    x_year = [year_prepros(d) for d in get_year(soup)]\n",
    "    urls = get_url(soup)\n",
    "    pre_data = create_train_x(x_money,x_year, raw_data)\n",
    "    new_shit = []\n",
    "    for i in range(len(urls)):\n",
    "        new_shit.append(pre_data[i])\n",
    "        new_shit[-1].append(urls[i])\n",
    "\n",
    "    return new_shit\n",
    "\n",
    "def create_train_data(soup_in):\n",
    "    raw_data = [preparsing(d) for d in get_data(soup_in)]\n",
    "    x_money = [money_prepros(d) for d in get_money(soup_in)]\n",
    "    x_year = [year_prepros(d) for d in get_year(soup_in)]\n",
    "    train_x = create_train_x(x_money, x_year, raw_data)\n",
    "    return train_x\n",
    "\n",
    "def get_market_std(soup):\n",
    "    money = [money_prepros(d) for d in get_money(soup)]\n",
    "    train_x = np.array(money).astype(np.float64)\n",
    "    return train_x.std()\n",
    "\n",
    "def get_market_mean(soup):\n",
    "    money = [money_prepros(d) for d in get_money(soup)]\n",
    "    train_x = np.array(money).astype(np.float64)\n",
    "    return train_x.mean()\n",
    "\n",
    "def get_market_n(soup):\n",
    "    money = [money_prepros(d) for d in get_money(soup)]\n",
    "    train_x = np.array(money).astype(np.float64)\n",
    "    return len(train_x)\n",
    "\n",
    "def get_html_from_avito(params):\n",
    "    http = urllib3.PoolManager()\n",
    "    answer = ''\n",
    "\n",
    "    avito_url = get_avito_url(params)\n",
    "    r = http.request('GET', avito_url)\n",
    "    soup = bf(r.data, 'html.parser')\n",
    "    return soup\n",
    "\n",
    "def get_avito_url(prm):\n",
    "    base = 'https://www.avito.ru/rossiya/avtomobili'\n",
    "    try:\n",
    "        base += \"/\"+ prm['mark']\n",
    "    except (KeyError, TypeError):\n",
    "        pass\n",
    "    try:\n",
    "        base += '/'+prm['model']\n",
    "    except (KeyError, TypeError):\n",
    "        pass\n",
    "    base += '?s_trg=4&f='\n",
    "    try:\n",
    "        base += get_type_range_url('body', prm['body'])\n",
    "    except (KeyError, TypeError):\n",
    "        pass\n",
    "    try:\n",
    "        base += '.'+get_range_url('year',prm['year'])\n",
    "    except (KeyError, TypeError):\n",
    "        pass\n",
    "    try:\n",
    "        base += '.'+get_type_range_url('kpp', prm['kpp'])\n",
    "    except (KeyError, TypeError):\n",
    "        pass\n",
    "    try:\n",
    "        base += '.'+get_range_url('engine', prm['engine'])\n",
    "    except (KeyError, TypeError):\n",
    "        pass\n",
    "    return base\n",
    "\n",
    "def get_range_url(name, prms):\n",
    "    base = multiple_params[name]['base']\n",
    "    all_params = list(multiple_params[name])\n",
    "    a1, a2=-1,-1\n",
    "    for pr in all_params:\n",
    "        if pr != 'base':\n",
    "            if float(prms[0])<=float(pr):\n",
    "                a1 = multiple_params[name][pr]\n",
    "                break\n",
    "    for pr in all_params:\n",
    "        if pr != 'base':\n",
    "            if float(prms[1])<=float(pr):\n",
    "                a2 = multiple_params[name][pr]\n",
    "                break\n",
    "    return str(base)+'_'+str(a1)+'b'+str(a2)\n",
    "\n",
    "def get_type_range_url(name, prms):\n",
    "    first, second = multiple_params[name][prms[0]], multiple_params[name][prms[1]]\n",
    "    base = multiple_params[name]['base']\n",
    "    return str(base)+'_'+str(first)+'-'+str(second)\n",
    "\n",
    "def create_reg_anal():\n",
    "    pass\n",
    "\n",
    "def get_data(soup):\n",
    "    return [price.text for price in soup.find_all('div', {\"class\": \"specific-params specific-params_block\"})]\n",
    "\n",
    "def get_money(soup):\n",
    "    return [price.text for price in soup.find_all('span', {\"class\": \"price\"})]\n",
    "\n",
    "def get_year(soup):\n",
    "    return [price.text for price in soup.find_all('a', {\"class\": \"item-description-title-link\"})]\n",
    "\n",
    "def get_url(soup):\n",
    "    base = 'https://www.avito.ru'\n",
    "    return [base + price['href'] for price in soup.find_all('a', {\"class\":\"item-description-title-link\"}, href=True)]\n",
    "\n",
    "def money_prepros(req):\n",
    "    return req.replace(' ', '').replace('\\n', '').replace('₽', '')\n",
    "def year_prepros(req):\n",
    "    return req.split(',')[1].replace(' ','')\n",
    "def preparsing(shit):\n",
    "    return [st.replace('\\xa0', ' ').replace('\\n', '').replace(' ', '') for st in shit.split(',')]\n",
    "\n",
    "def create_train_x(x_money, x_year, request):\n",
    "    train_x = []\n",
    "    for rq in request:\n",
    "        is_brouken = 0\n",
    "        km = 0\n",
    "        at,mt,amt=0,0,0\n",
    "        house_power = 0\n",
    "        engine_v = 0\n",
    "        for i in range(len(rq)):\n",
    "            if rq[i].find('Битый') != -1:\n",
    "                is_brouken = 1\n",
    "            if rq[i].find('км') != -1:\n",
    "                km = int(rq[i].replace('км', ''))\n",
    "            if rq[i].find('AT') != -1:\n",
    "                at=1\n",
    "            if rq[i].find('MT') != -1:\n",
    "                mt=1\n",
    "            if rq[i].find('AMT') != -1:\n",
    "                amt=1\n",
    "            if rq[i].find('л.с.') != -1:\n",
    "                house_power = int(rq[i][rq[i].find('(')+1:rq[i].find('л')])\n",
    "                engine_v = float(rq[i][rq[i].find('.')-1:rq[i].find('.')+2])\n",
    "            if x_money[i] == 0 or x_year[i] == 0 or house_power==0 or engine_v==0 or km==0:\n",
    "                continue\n",
    "        train_x.append([is_brouken,x_money[i],km,x_year[i], at,mt,amt,engine_v,house_power])\n",
    "    return train_x\n",
    "\n",
    "def get_coor_coef(train_x, train_y):\n",
    "    coor = np.corrcoef(np.array(train_x).astype(np.float), np.array(train_y).astype(np.float))\n",
    "    return np.array([coor[i][-1] for i in range(len(coor))]).mean()\n",
    "\n",
    "def get_r_sq(train_x, train_y):\n",
    "    scores = [r2_score(np.array(train_y).astype(np.float64), np.array(train_x[i]).astype(np.float64)) for i in range(len(train_x))]\n",
    "    return sum(scores)/len(scores)\n",
    "\n",
    "def get_norm_r(train_x ,user_data):\n",
    "    r = get_coor_coef(train_x, user_data)\n",
    "    n = len(train_x)\n",
    "    p = len(train_x)-len(train_x[0])\n",
    "    return 1-(1-p)*(n-1)/(n-p-1)\n",
    "\n",
    "\n",
    "\n",
    "\n",
    "multiple_params = {\n",
    "   'kpp':{\n",
    "       'base':185,\n",
    "       'mechanika':861,\n",
    "       'avtomat':860,\n",
    "       'robot':14754,\n",
    "       'vibator':14753,\n",
    "       },\n",
    "    'year':{\n",
    "        'base':188,\n",
    "        '1960':0,\n",
    "        '1970':782,\n",
    "        '1999':892,\n",
    "        '2004':897,\n",
    "        '2007':900,\n",
    "        '2012':6045,\n",
    "        '2014':11017,\n",
    "        '2016':16381,\n",
    "        '2018':20303,\n",
    "        '2019':405242,\n",
    "    },\n",
    "    'body':{\n",
    "        'base':187,\n",
    "        'sedan':869,\n",
    "        'limusin':867,\n",
    "        'chechbeck':872\n",
    "    },\n",
    "    'engine':{\n",
    "        'base':1374,\n",
    "        '0.0':0,\n",
    "        '0.6':15776,\n",
    "        '0.7':15777,\n",
    "        '0.8':15778,\n",
    "        '1.0':15780,\n",
    "        '1.2':15782,\n",
    "        '1.4':15784,\n",
    "        '1.6':15786,\n",
    "        '2.2':15792,\n",
    "        '5.5':15825,\n",
    "        '6.0':15830\n",
    "    },\n",
    "    'mark':{\n",
    "        'skoda':['octavia', 'rapid'],\n",
    "        'vaz_lada':['kalina', 'granta', 'xray','2103','2104','2105', \"largus\", 'priora', 'vesta'],\n",
    "        'kia':['rio','spectra']\n",
    "    },\n",
    "}\n"
   ]
  },
  {
   "cell_type": "code",
   "execution_count": null,
   "metadata": {},
   "outputs": [],
   "source": []
  }
 ],
 "metadata": {
  "kernelspec": {
   "display_name": "Python 3",
   "language": "python",
   "name": "python3"
  },
  "language_info": {
   "codemirror_mode": {
    "name": "ipython",
    "version": 3
   },
   "file_extension": ".py",
   "mimetype": "text/x-python",
   "name": "python",
   "nbconvert_exporter": "python",
   "pygments_lexer": "ipython3",
   "version": "3.6.0"
  }
 },
 "nbformat": 4,
 "nbformat_minor": 2
}
