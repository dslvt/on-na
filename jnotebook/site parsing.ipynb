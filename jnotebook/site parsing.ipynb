{
 "cells": [
  {
   "cell_type": "code",
   "execution_count": 49,
   "metadata": {},
   "outputs": [
    {
     "name": "stderr",
     "output_type": "stream",
     "text": [
      "c:\\users\\dinmuhametov salavat\\appdata\\local\\programs\\python\\python36\\lib\\site-packages\\urllib3\\connectionpool.py:847: InsecureRequestWarning: Unverified HTTPS request is being made. Adding certificate verification is strongly advised. See: https://urllib3.readthedocs.io/en/latest/advanced-usage.html#ssl-warnings\n",
      "  InsecureRequestWarning)\n"
     ]
    }
   ],
   "source": [
    "from bs4 import BeautifulSoup as bf\n",
    "import urllib3\n",
    "\n",
    "http = urllib3.PoolManager()\n",
    "r = http.request('GET', 'https://www.avito.ru/rossiya/avtomobili/chery/m11?pmax=1000000000&pmin=45&s_trg=4&f=695_8852-8851')\n",
    "soup = BeautifulSoup(r.data, 'html.parser')"
   ]
  },
  {
   "cell_type": "code",
   "execution_count": 50,
   "metadata": {},
   "outputs": [
    {
     "name": "stdout",
     "output_type": "stream",
     "text": [
      "['\\n 380 000  ₽', '\\n 135 000  ₽', '\\n 190 000  ₽', '\\n 415 000  ₽', '\\n 169 000  ₽', '\\n 250 000  ₽', '\\n 185 000  ₽', '\\n 130 000  ₽', '\\n 195 000  ₽', '\\n 269 000  ₽', '\\n 190 000  ₽', '\\n 220 000  ₽', '\\n 165 000  ₽', '\\n 220 000  ₽', '\\n 240 000  ₽', '\\n 320 000  ₽', '\\n 265 000  ₽', '\\n 388 000  ₽', '\\n 345 000  ₽', '\\n 230 000  ₽', '\\n 350 000  ₽', '\\n 215 000  ₽', '\\n 265 000  ₽', '\\n 200 000  ₽', '\\n 400 000  ₽', '\\n 255 000  ₽', '\\n 230 000  ₽', '\\n 315 000  ₽', '\\n 185 000  ₽', '\\n 315 000  ₽', '\\n 273 000  ₽', '\\n 347 000  ₽', '\\n 165 000  ₽', '\\n 215 000  ₽', '\\n 240 000  ₽', '\\n 280 000  ₽', '\\n 250 000  ₽', '\\n 220 000  ₽', '\\n 165 000  ₽', '\\n 200 000  ₽', '\\n 149 999  ₽', '\\n 205 000  ₽', '\\n 239 000  ₽', '\\n 299 000  ₽', '\\n 195 000  ₽', '\\n 185 000  ₽', '\\n 210 000  ₽', '\\n 150 000  ₽', '\\n 320 000  ₽', '\\n 255 000  ₽']\n"
     ]
    }
   ],
   "source": [
    "print([price.text for price in soup.find_all('span', {\"class\": \"price\"})])"
   ]
  },
  {
   "cell_type": "code",
   "execution_count": 144,
   "metadata": {},
   "outputs": [],
   "source": [
    "param = {\n",
    "    'mark':'skoda',\n",
    "    'model':'rapid',\n",
    "    'year':[2012, 2019],\n",
    "    'body':['sedan', 'limusin'],\n",
    "    'engine':[1.1, 6.0],\n",
    "    'kpp': ['mechanika', 'robot']\n",
    "}\n"
   ]
  },
  {
   "cell_type": "code",
   "execution_count": 145,
   "metadata": {},
   "outputs": [
    {
     "name": "stdout",
     "output_type": "stream",
     "text": [
      "https://www.avito.ru/rossiya/avtomobili/skoda/rapid?s_trg=4&f=187_869-867.188_6045b405242.185_861-14754.1374_15825b15830\n"
     ]
    }
   ],
   "source": [
    "def get_avito_url(prm):\n",
    "    base = 'https://www.avito.ru/rossiya/avtomobili/'\n",
    "    base += prm['mark']+'/'\n",
    "    base += prm['model']\n",
    "    base += '?s_trg=4&f='\n",
    "    base += get_type_range_url('body', prm['body'])\n",
    "    base += '.'+get_range_url('year',prm['year'])\n",
    "    base += '.'+get_type_range_url('kpp', prm['kpp'])\n",
    "    base += '.'+get_range_url('engine', prm['engine'])\n",
    "    return base\n",
    "print(get_avito_url(param))"
   ]
  },
  {
   "cell_type": "code",
   "execution_count": 95,
   "metadata": {
    "collapsed": true
   },
   "outputs": [
    {
     "ename": "NameError",
     "evalue": "name 'body' is not defined",
     "output_type": "error",
     "traceback": [
      "\u001b[1;31m---------------------------------------------------------------------------\u001b[0m",
      "\u001b[1;31mNameError\u001b[0m                                 Traceback (most recent call last)",
      "\u001b[1;32m<ipython-input-95-7935c22e0ea4>\u001b[0m in \u001b[0;36m<module>\u001b[1;34m\u001b[0m\n\u001b[1;32m----> 1\u001b[1;33m \u001b[0mbody\u001b[0m \u001b[1;33m+\u001b[0m \u001b[0myear\u001b[0m \u001b[1;33m+\u001b[0m \u001b[0mkpp\u001b[0m \u001b[1;33m+\u001b[0m \u001b[0mengine\u001b[0m\u001b[1;33m\u001b[0m\u001b[0m\n\u001b[0m",
      "\u001b[1;31mNameError\u001b[0m: name 'body' is not defined"
     ]
    }
   ],
   "source": [
    "body + year + kpp + engine"
   ]
  },
  {
   "cell_type": "code",
   "execution_count": 141,
   "metadata": {},
   "outputs": [
    {
     "data": {
      "text/plain": [
       "'188_6045b405242'"
      ]
     },
     "execution_count": 141,
     "metadata": {},
     "output_type": "execute_result"
    }
   ],
   "source": [
    "def get_range_url(name, prms):\n",
    "    base = multiple_params[name]['base']\n",
    "    all_params = list(multiple_params[name])\n",
    "    a1, a2=-1,-1\n",
    "    for pr in all_params:\n",
    "        if pr != 'base':\n",
    "            if float(prms[0])<=float(pr):\n",
    "                a1 = multiple_params[name][pr]\n",
    "                break\n",
    "    for pr in all_params:\n",
    "        if pr != 'base':\n",
    "            if float(prms[1])<=float(pr):\n",
    "                a2 = multiple_params[name][pr]\n",
    "                break\n",
    "    return str(base)+'_'+str(a1)+'b'+str(a2)\n",
    "get_range_url('year', [2012,2019])"
   ]
  },
  {
   "cell_type": "code",
   "execution_count": 89,
   "metadata": {},
   "outputs": [
    {
     "name": "stdout",
     "output_type": "stream",
     "text": [
      "185_861-14754\n"
     ]
    }
   ],
   "source": [
    "def get_type_range_url(name, prms):\n",
    "    first, second = multiple_params[name][prms[0]], multiple_params[name][prms[1]]\n",
    "    base = multiple_params[name]['base']\n",
    "    return str(base)+'_'+str(first)+'-'+str(second)\n",
    "print(get_type_range_url('kpp', ['mechanika', 'robot']))"
   ]
  },
  {
   "cell_type": "code",
   "execution_count": 108,
   "metadata": {},
   "outputs": [],
   "source": [
    "multiple_params = {\n",
    "   'kpp':{\n",
    "       'base':185,\n",
    "       'mechanika':861,\n",
    "       'avtomat':860,\n",
    "       'robot':14754,\n",
    "       'vibator':14753,\n",
    "       },\n",
    "    'year':{\n",
    "        'base':188,\n",
    "        '1960':0,\n",
    "        '1970':782,\n",
    "        '2012':6045,\n",
    "        '2019':405242,\n",
    "    },\n",
    "    'body':{\n",
    "        'base':187,\n",
    "        'sedan':869,\n",
    "        'limusin':867,\n",
    "        'chechbeck':872\n",
    "    },\n",
    "    'engine':{\n",
    "        'base':1374,\n",
    "        '0.0':0,\n",
    "        '0.6':15776,\n",
    "        '5.5':15825,\n",
    "        '6.0':15830\n",
    "    },\n",
    "    'mark':{\n",
    "        'skoda':['octavia', 'rapid'],\n",
    "        'vaz_lada':['kalina', 'granta'],\n",
    "        'kia':['rio','spectra']\n",
    "    },    \n",
    "}"
   ]
  },
  {
   "cell_type": "code",
   "execution_count": 70,
   "metadata": {},
   "outputs": [
    {
     "data": {
      "text/plain": [
       "['base', '0.0', '0.6', '5.5', '6.0']"
      ]
     },
     "execution_count": 70,
     "metadata": {},
     "output_type": "execute_result"
    }
   ],
   "source": [
    "list(multiple_params[list(prms)[0]])"
   ]
  },
  {
   "cell_type": "code",
   "execution_count": 72,
   "metadata": {},
   "outputs": [
    {
     "data": {
      "text/plain": [
       "1374"
      ]
     },
     "execution_count": 72,
     "metadata": {},
     "output_type": "execute_result"
    }
   ],
   "source": [
    "multiple_params[list(prms)[0]]['base']"
   ]
  },
  {
   "cell_type": "code",
   "execution_count": null,
   "metadata": {},
   "outputs": [],
   "source": []
  }
 ],
 "metadata": {
  "kernelspec": {
   "display_name": "Python 3",
   "language": "python",
   "name": "python3"
  },
  "language_info": {
   "codemirror_mode": {
    "name": "ipython",
    "version": 3
   },
   "file_extension": ".py",
   "mimetype": "text/x-python",
   "name": "python",
   "nbconvert_exporter": "python",
   "pygments_lexer": "ipython3",
   "version": "3.6.0"
  }
 },
 "nbformat": 4,
 "nbformat_minor": 2
}
