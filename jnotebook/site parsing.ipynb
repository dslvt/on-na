{
 "cells": [
  {
   "cell_type": "code",
   "execution_count": 227,
   "metadata": {},
   "outputs": [],
   "source": [
    "from bs4 import BeautifulSoup as bf\n",
    "import urllib3\n",
    "import numpy as np\n",
    "from sklearn.metrics import r2_score\n",
    "import math"
   ]
  },
  {
   "cell_type": "code",
   "execution_count": 206,
   "metadata": {},
   "outputs": [
    {
     "name": "stdout",
     "output_type": "stream",
     "text": [
      "0\n"
     ]
    },
    {
     "name": "stderr",
     "output_type": "stream",
     "text": [
      "c:\\users\\dinmuhametov salavat\\appdata\\local\\programs\\python\\python36\\lib\\site-packages\\urllib3\\connectionpool.py:847: InsecureRequestWarning: Unverified HTTPS request is being made. Adding certificate verification is strongly advised. See: https://urllib3.readthedocs.io/en/latest/advanced-usage.html#ssl-warnings\n",
      "  InsecureRequestWarning)\n"
     ]
    }
   ],
   "source": [
    "http = urllib3.PoolManager()\n",
    "r = http.request('GET', 'https://www.avito.ru/rossiya/avtomobili?s_trg=4&f=')\n",
    "soup = bf(r.data, 'html.parser')\n",
    "print(len([price.text for price in soup.find_all('span', {\"class\": \"price\"})]))"
   ]
  },
  {
   "cell_type": "code",
   "execution_count": 76,
   "metadata": {},
   "outputs": [],
   "source": [
    "param = {\n",
    "    \"mark\":\"skoda\",\n",
    "    \"model\":\"octavia\",\n",
    "    \"body\":[\"sedan\", \"limusin\"],\n",
    "    \"engine\":[0.0, 6.0],\n",
    "    \"year\":[1960, 2019],\n",
    "    \n",
    "}\n"
   ]
  },
  {
   "cell_type": "code",
   "execution_count": 77,
   "metadata": {},
   "outputs": [
    {
     "name": "stdout",
     "output_type": "stream",
     "text": [
      "https://www.avito.ru/rossiya/avtomobili/skoda/octavia?s_trg=4&f=187_869-867.188_0b405242.1374_0b15830\n"
     ]
    }
   ],
   "source": [
    "def get_avito_url(prm):\n",
    "    base = 'https://www.avito.ru/rossiya/avtomobili'\n",
    "    try:\n",
    "        base += \"/\"+ prm['mark']\n",
    "    except (KeyError, TypeError):\n",
    "        pass\n",
    "    try:\n",
    "        base += '/'+prm['model']\n",
    "    except (KeyError, TypeError):\n",
    "        pass\n",
    "    base += '?s_trg=4&f='\n",
    "    try:\n",
    "        base += get_type_range_url('body', prm['body'])\n",
    "    except (KeyError, TypeError):\n",
    "        pass\n",
    "    try:\n",
    "        base += '.'+get_range_url('year',prm['year'])\n",
    "    except (KeyError, TypeError):\n",
    "        pass\n",
    "    try:\n",
    "        base += '.'+get_type_range_url('kpp', prm['kpp'])\n",
    "    except (KeyError, TypeError):\n",
    "        pass\n",
    "    try:\n",
    "        base += '.'+get_range_url('engine', prm['engine'])\n",
    "    except (KeyError, TypeError):\n",
    "        pass\n",
    "    return base\n",
    "print(get_avito_url(param))"
   ]
  },
  {
   "cell_type": "code",
   "execution_count": 95,
   "metadata": {
    "collapsed": true
   },
   "outputs": [
    {
     "ename": "NameError",
     "evalue": "name 'body' is not defined",
     "output_type": "error",
     "traceback": [
      "\u001b[1;31m---------------------------------------------------------------------------\u001b[0m",
      "\u001b[1;31mNameError\u001b[0m                                 Traceback (most recent call last)",
      "\u001b[1;32m<ipython-input-95-7935c22e0ea4>\u001b[0m in \u001b[0;36m<module>\u001b[1;34m\u001b[0m\n\u001b[1;32m----> 1\u001b[1;33m \u001b[0mbody\u001b[0m \u001b[1;33m+\u001b[0m \u001b[0myear\u001b[0m \u001b[1;33m+\u001b[0m \u001b[0mkpp\u001b[0m \u001b[1;33m+\u001b[0m \u001b[0mengine\u001b[0m\u001b[1;33m\u001b[0m\u001b[0m\n\u001b[0m",
      "\u001b[1;31mNameError\u001b[0m: name 'body' is not defined"
     ]
    }
   ],
   "source": [
    "body + year + kpp + engine"
   ]
  },
  {
   "cell_type": "code",
   "execution_count": 13,
   "metadata": {},
   "outputs": [
    {
     "data": {
      "text/plain": [
       "'188_6045b405242'"
      ]
     },
     "execution_count": 13,
     "metadata": {},
     "output_type": "execute_result"
    }
   ],
   "source": [
    "def get_range_url(name, prms):\n",
    "    base = multiple_params[name]['base']\n",
    "    all_params = list(multiple_params[name])\n",
    "    a1, a2=-1,-1\n",
    "    for pr in all_params:\n",
    "        if pr != 'base':\n",
    "            if float(prms[0])<=float(pr):\n",
    "                a1 = multiple_params[name][pr]\n",
    "                break\n",
    "    for pr in all_params:\n",
    "        if pr != 'base':\n",
    "            if float(prms[1])<=float(pr):\n",
    "                a2 = multiple_params[name][pr]\n",
    "                break\n",
    "    return str(base)+'_'+str(a1)+'b'+str(a2)\n",
    "get_range_url('year', [2012,2019])"
   ]
  },
  {
   "cell_type": "code",
   "execution_count": 14,
   "metadata": {},
   "outputs": [
    {
     "name": "stdout",
     "output_type": "stream",
     "text": [
      "185_861-14754\n"
     ]
    }
   ],
   "source": [
    "def get_type_range_url(name, prms):\n",
    "    first, second = multiple_params[name][prms[0]], multiple_params[name][prms[1]]\n",
    "    base = multiple_params[name]['base']\n",
    "    return str(base)+'_'+str(first)+'-'+str(second)\n",
    "print(get_type_range_url('kpp', ['mechanika', 'robot']))"
   ]
  },
  {
   "cell_type": "code",
   "execution_count": 75,
   "metadata": {},
   "outputs": [],
   "source": [
    "multiple_params = {\n",
    "   'kpp':{\n",
    "       'base':185,\n",
    "       'mechanika':861,\n",
    "       'avtomat':860,\n",
    "       'robot':14754,\n",
    "       'vibator':14753,\n",
    "       },\n",
    "    'year':{\n",
    "        'base':188,\n",
    "        '1960':0,\n",
    "        '1970':782,\n",
    "        '2012':6045,\n",
    "        '2019':405242,\n",
    "    },\n",
    "    'body':{\n",
    "        'base':187,\n",
    "        'sedan':869,\n",
    "        'limusin':867,\n",
    "        'chechbeck':872\n",
    "    },\n",
    "    'engine':{\n",
    "        'base':1374,\n",
    "        '0.0':0,\n",
    "        '0.6':15776,\n",
    "        '5.5':15825,\n",
    "        '6.0':15830\n",
    "    },\n",
    "    'mark':{\n",
    "        'skoda':['octavia', 'rapid'],\n",
    "        'vaz_lada':['kalina', 'granta'],\n",
    "        'kia':['rio','spectra']\n",
    "    },    \n",
    "}"
   ]
  },
  {
   "cell_type": "code",
   "execution_count": 70,
   "metadata": {},
   "outputs": [
    {
     "data": {
      "text/plain": [
       "['base', '0.0', '0.6', '5.5', '6.0']"
      ]
     },
     "execution_count": 70,
     "metadata": {},
     "output_type": "execute_result"
    }
   ],
   "source": [
    "list(multiple_params[list(prms)[0]])"
   ]
  },
  {
   "cell_type": "code",
   "execution_count": 72,
   "metadata": {},
   "outputs": [
    {
     "data": {
      "text/plain": [
       "1374"
      ]
     },
     "execution_count": 72,
     "metadata": {},
     "output_type": "execute_result"
    }
   ],
   "source": [
    "multiple_params[list(prms)[0]]['base']"
   ]
  },
  {
   "cell_type": "code",
   "execution_count": 26,
   "metadata": {},
   "outputs": [],
   "source": [
    "y = {'gobno':10}"
   ]
  },
  {
   "cell_type": "code",
   "execution_count": 32,
   "metadata": {},
   "outputs": [],
   "source": [
    "try:\n",
    "    y['d']\n",
    "except:\n",
    "    pass"
   ]
  },
  {
   "cell_type": "code",
   "execution_count": null,
   "metadata": {},
   "outputs": [],
   "source": [
    "my_auto()"
   ]
  },
  {
   "cell_type": "code",
   "execution_count": 70,
   "metadata": {},
   "outputs": [
    {
     "data": {
      "text/plain": [
       "array([[1.        , 1.        , 1.        , 0.99661647],\n",
       "       [1.        , 1.        , 1.        , 0.99661647],\n",
       "       [1.        , 1.        , 1.        , 0.9966165 ],\n",
       "       [0.99661647, 0.99661647, 0.9966165 , 1.        ]])"
      ]
     },
     "execution_count": 70,
     "metadata": {},
     "output_type": "execute_result"
    }
   ],
   "source": [
    "np.corrcoef([[2,1, 123333],[2,1, 123333],[23,3, 2343234]], [2,1, 12])"
   ]
  },
  {
   "cell_type": "code",
   "execution_count": 133,
   "metadata": {},
   "outputs": [
    {
     "name": "stderr",
     "output_type": "stream",
     "text": [
      "c:\\users\\dinmuhametov salavat\\appdata\\local\\programs\\python\\python36\\lib\\site-packages\\urllib3\\connectionpool.py:847: InsecureRequestWarning: Unverified HTTPS request is being made. Adding certificate verification is strongly advised. See: https://urllib3.readthedocs.io/en/latest/advanced-usage.html#ssl-warnings\n",
      "  InsecureRequestWarning)\n"
     ]
    }
   ],
   "source": [
    "ur = 'https://www.avito.ru/rossiya/avtomobili/skoda/octavia?s_trg=4&f=187_869-867.188_0b405242.1374_0b15830'\n",
    "\n",
    "dt = http.request('GET', ur)\n",
    "soup_in = bf(dt.data, 'html.parser')\n",
    "\n",
    "def get_data(soup):\n",
    "    return [price.text for price in soup.find_all('div', {\"class\": \"specific-params specific-params_block\"})]\n",
    "\n",
    "def get_money(soup):\n",
    "    return [price.text for price in soup.find_all('span', {\"class\": \"price\"})]\n",
    "\n",
    "def get_year(soup):\n",
    "    return [price.text for price in soup.find_all('a', {\"class\": \"item-description-title-link\"})]\n",
    "\n",
    "# shit = get_year()[:2]\n",
    "\n",
    "# shit = get_data('https://www.avito.ru/rossiya/avtomobili/s_probegom/skoda/octavia/bityy?s_trg=4&f=187_867-869.1374_0b15830')[:2]"
   ]
  },
  {
   "cell_type": "code",
   "execution_count": 141,
   "metadata": {},
   "outputs": [
    {
     "name": "stdout",
     "output_type": "stream",
     "text": [
      "54 54 54\n"
     ]
    }
   ],
   "source": [
    "raw_data = [preparsing(d) for d in get_data(soup_in)]\n",
    "x_money = [money_prepros(d) for d in get_money(soup_in)]\n",
    "x_year = [year_prepros(d) for d in get_year(soup_in)]\n",
    "print(len(raw_data), len(x_money), len(x_year))"
   ]
  },
  {
   "cell_type": "code",
   "execution_count": 124,
   "metadata": {},
   "outputs": [],
   "source": [
    "def money_prepros(req):\n",
    "    return req.replace(' ', '').replace('\\n', '').replace('₽', '')\n",
    "def year_prepros(req):\n",
    "    return req.split(',')[1].replace(' ','')\n",
    "def preparsing(shit):\n",
    "    return [st.replace('\\xa0', ' ').replace('\\n', '').replace(' ', '') for st in shit.split(',')]"
   ]
  },
  {
   "cell_type": "code",
   "execution_count": 49,
   "metadata": {},
   "outputs": [],
   "source": [
    "#dispersa_anal\n",
    "#bitaya 1, 0\n",
    "#priceK\n",
    "#milescore\n",
    "#year\n",
    "#dvigatel"
   ]
  },
  {
   "cell_type": "code",
   "execution_count": 150,
   "metadata": {
    "collapsed": true
   },
   "outputs": [
    {
     "data": {
      "text/plain": [
       "[[0, '555000', 89000, '2013', 1, 0, 0, 1.8, 180],\n",
       " [0, '845000', 89000, '2014', 1, 0, 0, 1.8, 180],\n",
       " [0, '495000', 89000, '2012', 1, 0, 0, 1.8, 180],\n",
       " [0, '460000', 89000, '2014', 1, 0, 0, 1.8, 180],\n",
       " [0, '555000', 67600, '2013', 0, 1, 1, 1.4, 140],\n",
       " [0, '845000', 67600, '2014', 0, 1, 1, 1.4, 140],\n",
       " [0, '495000', 67600, '2012', 0, 1, 1, 1.4, 140],\n",
       " [0, '460000', 67600, '2014', 0, 1, 1, 1.4, 140],\n",
       " [0, '555000', 72000, '2013', 0, 1, 0, 1.4, 122],\n",
       " [0, '845000', 72000, '2014', 0, 1, 0, 1.4, 122],\n",
       " [0, '495000', 72000, '2012', 0, 1, 0, 1.4, 122],\n",
       " [0, '460000', 72000, '2014', 0, 1, 0, 1.4, 122],\n",
       " [0, '555000', 210000, '2013', 1, 0, 0, 1.2, 105],\n",
       " [0, '845000', 210000, '2014', 1, 0, 0, 1.2, 105],\n",
       " [0, '495000', 210000, '2012', 1, 0, 0, 1.2, 105],\n",
       " [0, '460000', 210000, '2014', 1, 0, 0, 1.2, 105],\n",
       " [0, '555000', 86000, '2013', 0, 1, 0, 1.6, 102],\n",
       " [0, '845000', 86000, '2014', 0, 1, 0, 1.6, 102],\n",
       " [0, '495000', 86000, '2012', 0, 1, 0, 1.6, 102],\n",
       " [0, '460000', 86000, '2014', 0, 1, 0, 1.6, 102],\n",
       " [0, '555000', 220000, '2013', 1, 0, 0, 1.6, 110],\n",
       " [0, '845000', 220000, '2014', 1, 0, 0, 1.6, 110],\n",
       " [0, '495000', 220000, '2012', 1, 0, 0, 1.6, 110],\n",
       " [0, '460000', 220000, '2014', 1, 0, 0, 1.6, 110],\n",
       " [0, '555000', 138000, '2013', 0, 1, 0, 1.6, 110],\n",
       " [0, '845000', 138000, '2014', 0, 1, 0, 1.6, 110],\n",
       " [0, '495000', 138000, '2012', 0, 1, 0, 1.6, 110],\n",
       " [0, '460000', 138000, '2014', 0, 1, 0, 1.6, 110],\n",
       " [0, '555000', 263528, '2013', 0, 1, 0, 1.4, 75],\n",
       " [0, '845000', 263528, '2014', 0, 1, 0, 1.4, 75],\n",
       " [0, '495000', 263528, '2012', 0, 1, 0, 1.4, 75],\n",
       " [0, '460000', 263528, '2014', 0, 1, 0, 1.4, 75],\n",
       " [0, '555000', 150000, '2013', 1, 0, 0, 2.0, 150],\n",
       " [0, '845000', 150000, '2014', 1, 0, 0, 2.0, 150],\n",
       " [0, '495000', 150000, '2012', 1, 0, 0, 2.0, 150],\n",
       " [0, '460000', 150000, '2014', 1, 0, 0, 2.0, 150],\n",
       " [0, '555000', 83000, '2013', 0, 1, 0, 1.6, 110],\n",
       " [0, '845000', 83000, '2014', 0, 1, 0, 1.6, 110],\n",
       " [0, '495000', 83000, '2012', 0, 1, 0, 1.6, 110],\n",
       " [0, '460000', 83000, '2014', 0, 1, 0, 1.6, 110],\n",
       " [0, '555000', 350000, '2013', 0, 1, 0, 1.6, 101],\n",
       " [0, '845000', 350000, '2014', 0, 1, 0, 1.6, 101],\n",
       " [0, '495000', 350000, '2012', 0, 1, 0, 1.6, 101],\n",
       " [0, '460000', 350000, '2014', 0, 1, 0, 1.6, 101],\n",
       " [0, '555000', 91000, '2013', 0, 1, 0, 1.4, 140],\n",
       " [0, '845000', 91000, '2014', 0, 1, 0, 1.4, 140],\n",
       " [0, '495000', 91000, '2012', 0, 1, 0, 1.4, 140],\n",
       " [0, '460000', 91000, '2014', 0, 1, 0, 1.4, 140],\n",
       " [0, '555000', 162000, '2013', 0, 1, 1, 1.8, 152],\n",
       " [0, '845000', 162000, '2014', 0, 1, 1, 1.8, 152],\n",
       " [0, '495000', 162000, '2012', 0, 1, 1, 1.8, 152],\n",
       " [0, '460000', 162000, '2014', 0, 1, 1, 1.8, 152],\n",
       " [0, '555000', 128500, '2013', 1, 0, 0, 1.8, 150],\n",
       " [0, '845000', 128500, '2014', 1, 0, 0, 1.8, 150],\n",
       " [0, '495000', 128500, '2012', 1, 0, 0, 1.8, 150],\n",
       " [0, '460000', 128500, '2014', 1, 0, 0, 1.8, 150],\n",
       " [0, '555000', 260000, '2013', 0, 1, 0, 1.4, 75],\n",
       " [0, '845000', 260000, '2014', 0, 1, 0, 1.4, 75],\n",
       " [0, '495000', 260000, '2012', 0, 1, 0, 1.4, 75],\n",
       " [0, '460000', 260000, '2014', 0, 1, 0, 1.4, 75],\n",
       " [0, '555000', 112049, '2013', 0, 1, 0, 1.4, 122],\n",
       " [0, '845000', 112049, '2014', 0, 1, 0, 1.4, 122],\n",
       " [0, '495000', 112049, '2012', 0, 1, 0, 1.4, 122],\n",
       " [0, '460000', 112049, '2014', 0, 1, 0, 1.4, 122],\n",
       " [0, '555000', 160000, '2013', 1, 0, 0, 1.8, 152],\n",
       " [0, '845000', 160000, '2014', 1, 0, 0, 1.8, 152],\n",
       " [0, '495000', 160000, '2012', 1, 0, 0, 1.8, 152],\n",
       " [0, '460000', 160000, '2014', 1, 0, 0, 1.8, 152],\n",
       " [0, '555000', 98000, '2013', 0, 1, 0, 1.6, 102],\n",
       " [0, '845000', 98000, '2014', 0, 1, 0, 1.6, 102],\n",
       " [0, '495000', 98000, '2012', 0, 1, 0, 1.6, 102],\n",
       " [0, '460000', 98000, '2014', 0, 1, 0, 1.6, 102],\n",
       " [0, '555000', 118000, '2013', 0, 1, 0, 1.6, 102],\n",
       " [0, '845000', 118000, '2014', 0, 1, 0, 1.6, 102],\n",
       " [0, '495000', 118000, '2012', 0, 1, 0, 1.6, 102],\n",
       " [0, '460000', 118000, '2014', 0, 1, 0, 1.6, 102],\n",
       " [0, '555000', 142340, '2013', 0, 1, 0, 1.6, 102],\n",
       " [0, '845000', 142340, '2014', 0, 1, 0, 1.6, 102],\n",
       " [0, '495000', 142340, '2012', 0, 1, 0, 1.6, 102],\n",
       " [0, '460000', 142340, '2014', 0, 1, 0, 1.6, 102],\n",
       " [0, '555000', 93000, '2013', 0, 1, 0, 1.6, 102],\n",
       " [0, '845000', 93000, '2014', 0, 1, 0, 1.6, 102],\n",
       " [0, '495000', 93000, '2012', 0, 1, 0, 1.6, 102],\n",
       " [0, '460000', 93000, '2014', 0, 1, 0, 1.6, 102],\n",
       " [0, '555000', 320000, '2013', 0, 1, 0, 1.6, 101],\n",
       " [0, '845000', 320000, '2014', 0, 1, 0, 1.6, 101],\n",
       " [0, '495000', 320000, '2012', 0, 1, 0, 1.6, 101],\n",
       " [0, '460000', 320000, '2014', 0, 1, 0, 1.6, 101],\n",
       " [0, '555000', 226622, '2013', 0, 1, 1, 1.2, 105],\n",
       " [0, '845000', 226622, '2014', 0, 1, 1, 1.2, 105],\n",
       " [0, '495000', 226622, '2012', 0, 1, 1, 1.2, 105],\n",
       " [0, '460000', 226622, '2014', 0, 1, 1, 1.2, 105],\n",
       " [0, '555000', 140000, '2013', 0, 1, 0, 1.4, 140],\n",
       " [0, '845000', 140000, '2014', 0, 1, 0, 1.4, 140],\n",
       " [0, '495000', 140000, '2012', 0, 1, 0, 1.4, 140],\n",
       " [0, '460000', 140000, '2014', 0, 1, 0, 1.4, 140],\n",
       " [0, '555000', 69000, '2013', 1, 0, 0, 1.6, 102],\n",
       " [0, '845000', 69000, '2014', 1, 0, 0, 1.6, 102],\n",
       " [0, '495000', 69000, '2012', 1, 0, 0, 1.6, 102],\n",
       " [0, '460000', 69000, '2014', 1, 0, 0, 1.6, 102],\n",
       " [0, '555000', 68000, '2013', 0, 1, 1, 1.8, 152],\n",
       " [0, '845000', 68000, '2014', 0, 1, 1, 1.8, 152],\n",
       " [0, '495000', 68000, '2012', 0, 1, 1, 1.8, 152],\n",
       " [0, '460000', 68000, '2014', 0, 1, 1, 1.8, 152],\n",
       " [0, '555000', 187000, '2013', 1, 0, 0, 1.8, 150],\n",
       " [0, '845000', 187000, '2014', 1, 0, 0, 1.8, 150],\n",
       " [0, '495000', 187000, '2012', 1, 0, 0, 1.8, 150],\n",
       " [0, '460000', 187000, '2014', 1, 0, 0, 1.8, 150],\n",
       " [0, '555000', 108000, '2013', 0, 1, 0, 1.6, 102],\n",
       " [0, '845000', 108000, '2014', 0, 1, 0, 1.6, 102],\n",
       " [0, '495000', 108000, '2012', 0, 1, 0, 1.6, 102],\n",
       " [0, '460000', 108000, '2014', 0, 1, 0, 1.6, 102],\n",
       " [0, '555000', 133500, '2013', 0, 1, 0, 1.6, 102],\n",
       " [0, '845000', 133500, '2014', 0, 1, 0, 1.6, 102],\n",
       " [0, '495000', 133500, '2012', 0, 1, 0, 1.6, 102],\n",
       " [0, '460000', 133500, '2014', 0, 1, 0, 1.6, 102],\n",
       " [0, '555000', 157000, '2013', 0, 1, 1, 1.8, 180],\n",
       " [0, '845000', 157000, '2014', 0, 1, 1, 1.8, 180],\n",
       " [0, '495000', 157000, '2012', 0, 1, 1, 1.8, 180],\n",
       " [0, '460000', 157000, '2014', 0, 1, 1, 1.8, 180],\n",
       " [0, '555000', 160000, '2013', 1, 0, 0, 1.8, 180],\n",
       " [0, '845000', 160000, '2014', 1, 0, 0, 1.8, 180],\n",
       " [0, '495000', 160000, '2012', 1, 0, 0, 1.8, 180],\n",
       " [0, '460000', 160000, '2014', 1, 0, 0, 1.8, 180],\n",
       " [0, '555000', 165000, '2013', 1, 0, 0, 1.6, 110],\n",
       " [0, '845000', 165000, '2014', 1, 0, 0, 1.6, 110],\n",
       " [0, '495000', 165000, '2012', 1, 0, 0, 1.6, 110],\n",
       " [0, '460000', 165000, '2014', 1, 0, 0, 1.6, 110],\n",
       " [0, '555000', 106000, '2013', 0, 1, 0, 1.6, 102],\n",
       " [0, '845000', 106000, '2014', 0, 1, 0, 1.6, 102],\n",
       " [0, '495000', 106000, '2012', 0, 1, 0, 1.6, 102],\n",
       " [0, '460000', 106000, '2014', 0, 1, 0, 1.6, 102],\n",
       " [0, '555000', 43000, '2013', 0, 1, 0, 1.4, 140],\n",
       " [0, '845000', 43000, '2014', 0, 1, 0, 1.4, 140],\n",
       " [0, '495000', 43000, '2012', 0, 1, 0, 1.4, 140],\n",
       " [0, '460000', 43000, '2014', 0, 1, 0, 1.4, 140],\n",
       " [0, '555000', 100000, '2013', 0, 1, 1, 1.4, 150],\n",
       " [0, '845000', 100000, '2014', 0, 1, 1, 1.4, 150],\n",
       " [0, '495000', 100000, '2012', 0, 1, 1, 1.4, 150],\n",
       " [0, '460000', 100000, '2014', 0, 1, 1, 1.4, 150],\n",
       " [0, '555000', 160000, '2013', 1, 0, 0, 1.6, 110],\n",
       " [0, '845000', 160000, '2014', 1, 0, 0, 1.6, 110],\n",
       " [0, '495000', 160000, '2012', 1, 0, 0, 1.6, 110],\n",
       " [0, '460000', 160000, '2014', 1, 0, 0, 1.6, 110],\n",
       " [0, '555000', 119000, '2013', 0, 1, 0, 1.6, 110],\n",
       " [0, '845000', 119000, '2014', 0, 1, 0, 1.6, 110],\n",
       " [0, '495000', 119000, '2012', 0, 1, 0, 1.6, 110],\n",
       " [0, '460000', 119000, '2014', 0, 1, 0, 1.6, 110],\n",
       " [0, '555000', 119000, '2013', 1, 0, 0, 1.8, 152],\n",
       " [0, '845000', 119000, '2014', 1, 0, 0, 1.8, 152],\n",
       " [0, '495000', 119000, '2012', 1, 0, 0, 1.8, 152],\n",
       " [0, '460000', 119000, '2014', 1, 0, 0, 1.8, 152],\n",
       " [0, '555000', 113000, '2013', 1, 0, 0, 1.6, 102],\n",
       " [0, '845000', 113000, '2014', 1, 0, 0, 1.6, 102],\n",
       " [0, '495000', 113000, '2012', 1, 0, 0, 1.6, 102],\n",
       " [0, '460000', 113000, '2014', 1, 0, 0, 1.6, 102],\n",
       " [0, '555000', 82000, '2013', 1, 0, 0, 1.6, 110],\n",
       " [0, '845000', 82000, '2014', 1, 0, 0, 1.6, 110],\n",
       " [0, '495000', 82000, '2012', 1, 0, 0, 1.6, 110],\n",
       " [0, '460000', 82000, '2014', 1, 0, 0, 1.6, 110],\n",
       " [0, '555000', 115250, '2013', 1, 0, 0, 1.8, 152],\n",
       " [0, '845000', 115250, '2014', 1, 0, 0, 1.8, 152],\n",
       " [0, '495000', 115250, '2012', 1, 0, 0, 1.8, 152],\n",
       " [0, '460000', 115250, '2014', 1, 0, 0, 1.8, 152],\n",
       " [0, '555000', 104240, '2013', 1, 0, 0, 1.4, 140],\n",
       " [0, '845000', 104240, '2014', 1, 0, 0, 1.4, 140],\n",
       " [0, '495000', 104240, '2012', 1, 0, 0, 1.4, 140],\n",
       " [0, '460000', 104240, '2014', 1, 0, 0, 1.4, 140],\n",
       " [0, '555000', 180000, '2013', 0, 1, 0, 1.6, 102],\n",
       " [0, '845000', 180000, '2014', 0, 1, 0, 1.6, 102],\n",
       " [0, '495000', 180000, '2012', 0, 1, 0, 1.6, 102],\n",
       " [0, '460000', 180000, '2014', 0, 1, 0, 1.6, 102],\n",
       " [0, '555000', 179000, '2013', 0, 1, 0, 1.4, 75],\n",
       " [0, '845000', 179000, '2014', 0, 1, 0, 1.4, 75],\n",
       " [0, '495000', 179000, '2012', 0, 1, 0, 1.4, 75],\n",
       " [0, '460000', 179000, '2014', 0, 1, 0, 1.4, 75],\n",
       " [0, '555000', 85000, '2013', 1, 0, 0, 1.6, 102],\n",
       " [0, '845000', 85000, '2014', 1, 0, 0, 1.6, 102],\n",
       " [0, '495000', 85000, '2012', 1, 0, 0, 1.6, 102],\n",
       " [0, '460000', 85000, '2014', 1, 0, 0, 1.6, 102],\n",
       " [0, '555000', 123000, '2013', 1, 0, 0, 1.6, 102],\n",
       " [0, '845000', 123000, '2014', 1, 0, 0, 1.6, 102],\n",
       " [0, '495000', 123000, '2012', 1, 0, 0, 1.6, 102],\n",
       " [0, '460000', 123000, '2014', 1, 0, 0, 1.6, 102],\n",
       " [0, '555000', 172000, '2013', 0, 1, 1, 1.4, 122],\n",
       " [0, '845000', 172000, '2014', 0, 1, 1, 1.4, 122],\n",
       " [0, '495000', 172000, '2012', 0, 1, 1, 1.4, 122],\n",
       " [0, '460000', 172000, '2014', 0, 1, 1, 1.4, 122],\n",
       " [0, '555000', 2505, '2013', 0, 1, 1, 1.4, 150],\n",
       " [0, '845000', 2505, '2014', 0, 1, 1, 1.4, 150],\n",
       " [0, '495000', 2505, '2012', 0, 1, 1, 1.4, 150],\n",
       " [0, '460000', 2505, '2014', 0, 1, 1, 1.4, 150],\n",
       " [0, '555000', 138000, '2013', 0, 1, 0, 1.6, 102],\n",
       " [0, '845000', 138000, '2014', 0, 1, 0, 1.6, 102],\n",
       " [0, '495000', 138000, '2012', 0, 1, 0, 1.6, 102],\n",
       " [0, '460000', 138000, '2014', 0, 1, 0, 1.6, 102],\n",
       " [0, '555000', 132000, '2013', 0, 1, 0, 1.4, 75],\n",
       " [0, '845000', 132000, '2014', 0, 1, 0, 1.4, 75],\n",
       " [0, '495000', 132000, '2012', 0, 1, 0, 1.4, 75],\n",
       " [0, '460000', 132000, '2014', 0, 1, 0, 1.4, 75],\n",
       " [0, '555000', 139945, '2013', 0, 1, 0, 1.4, 75],\n",
       " [0, '845000', 139945, '2014', 0, 1, 0, 1.4, 75],\n",
       " [0, '495000', 139945, '2012', 0, 1, 0, 1.4, 75],\n",
       " [0, '460000', 139945, '2014', 0, 1, 0, 1.4, 75],\n",
       " [0, '555000', 69000, '2013', 1, 0, 0, 1.2, 105],\n",
       " [0, '845000', 69000, '2014', 1, 0, 0, 1.2, 105],\n",
       " [0, '495000', 69000, '2012', 1, 0, 0, 1.2, 105],\n",
       " [0, '460000', 69000, '2014', 1, 0, 0, 1.2, 105],\n",
       " [0, '555000', 138206, '2013', 1, 0, 0, 1.8, 152],\n",
       " [0, '845000', 138206, '2014', 1, 0, 0, 1.8, 152],\n",
       " [0, '495000', 138206, '2012', 1, 0, 0, 1.8, 152],\n",
       " [0, '460000', 138206, '2014', 1, 0, 0, 1.8, 152]]"
      ]
     },
     "execution_count": 150,
     "metadata": {},
     "output_type": "execute_result"
    }
   ],
   "source": [
    "def create_train_x(money, year, request):\n",
    "    train_x = []\n",
    "    for rq in request:\n",
    "        is_brouken = 0\n",
    "        km = 0\n",
    "        at,mt,amt=0,0,0\n",
    "        house_power = 0\n",
    "        engine_v = 0\n",
    "        for i in range(len(rq)):\n",
    "            if rq[i].find('Битый') != -1:\n",
    "                is_brouken = 1\n",
    "            if rq[i].find('км') != -1:\n",
    "                km = int(rq[i].replace('км', ''))\n",
    "            if rq[i].find('AT') != -1:\n",
    "                at=1\n",
    "            if rq[i].find('MT') != -1:\n",
    "                mt=1\n",
    "            if rq[i].find('AMT') != -1:\n",
    "                amt=1\n",
    "            if rq[i].find('л.с.') != -1:\n",
    "                house_power = int(rq[i][rq[i].find('(')+1:rq[i].find('л')])\n",
    "                engine_v = float(rq[i][rq[i].find('.')-1:rq[i].find('.')+2])\n",
    "            if x_money[i] == 0 or x_year[i] == 0 or house_power==0 or engine_v==0 or km==0:\n",
    "                continue\n",
    "            train_x.append([is_brouken,x_money[i],km,x_year[i], at,mt,amt,engine_v,house_power])\n",
    "    return train_x\n",
    "\n",
    "create_train_x(x_money, x_year, raw_data)"
   ]
  },
  {
   "cell_type": "code",
   "execution_count": 151,
   "metadata": {},
   "outputs": [],
   "source": [
    "train_x = create_train_x(x_money, x_year, raw_data)\n",
    "test_x = [0, 250000, 128500, 2001,1,0,0,1.8,150]"
   ]
  },
  {
   "cell_type": "code",
   "execution_count": 167,
   "metadata": {},
   "outputs": [],
   "source": [
    "coor = np.corrcoef(np.array(train_x).astype(np.float), np.array(test_x).astype(np.float))"
   ]
  },
  {
   "cell_type": "code",
   "execution_count": 165,
   "metadata": {},
   "outputs": [
    {
     "data": {
      "text/plain": [
       "array([[0.00000e+00, 5.55000e+05, 8.90000e+04, ..., 0.00000e+00,\n",
       "        1.80000e+00, 1.80000e+02],\n",
       "       [0.00000e+00, 8.45000e+05, 8.90000e+04, ..., 0.00000e+00,\n",
       "        1.80000e+00, 1.80000e+02],\n",
       "       [0.00000e+00, 4.95000e+05, 8.90000e+04, ..., 0.00000e+00,\n",
       "        1.80000e+00, 1.80000e+02],\n",
       "       ...,\n",
       "       [0.00000e+00, 8.45000e+05, 1.38206e+05, ..., 0.00000e+00,\n",
       "        1.80000e+00, 1.52000e+02],\n",
       "       [0.00000e+00, 4.95000e+05, 1.38206e+05, ..., 0.00000e+00,\n",
       "        1.80000e+00, 1.52000e+02],\n",
       "       [0.00000e+00, 4.60000e+05, 1.38206e+05, ..., 0.00000e+00,\n",
       "        1.80000e+00, 1.52000e+02]])"
      ]
     },
     "execution_count": 165,
     "metadata": {},
     "output_type": "execute_result"
    }
   ],
   "source": [
    "np.array(train_x).astype(np.float)"
   ]
  },
  {
   "cell_type": "code",
   "execution_count": 164,
   "metadata": {},
   "outputs": [
    {
     "data": {
      "text/plain": [
       "array([0.000e+00, 2.500e+05, 1.285e+05, 2.001e+03, 1.000e+00, 0.000e+00,\n",
       "       0.000e+00, 1.800e+00, 1.500e+02])"
      ]
     },
     "execution_count": 164,
     "metadata": {},
     "output_type": "execute_result"
    }
   ],
   "source": [
    "np.array(test_x).astype(np.float)"
   ]
  },
  {
   "cell_type": "code",
   "execution_count": 161,
   "metadata": {},
   "outputs": [
    {
     "data": {
      "text/plain": [
       "[0, 250000, 128500, 2001, 1, 0, 0, 1.8, 150]"
      ]
     },
     "execution_count": 161,
     "metadata": {},
     "output_type": "execute_result"
    }
   ],
   "source": [
    "test_x"
   ]
  },
  {
   "cell_type": "code",
   "execution_count": 172,
   "metadata": {},
   "outputs": [
    {
     "data": {
      "text/plain": [
       "0.9604958391382002"
      ]
     },
     "execution_count": 172,
     "metadata": {},
     "output_type": "execute_result"
    }
   ],
   "source": [
    "np.array([coor[i][-1] for i in range(len(coor))]).mean()"
   ]
  },
  {
   "cell_type": "code",
   "execution_count": 175,
   "metadata": {},
   "outputs": [],
   "source": [
    "#множественный r\n",
    "def get_coor_coef(train_x, train_y):\n",
    "    coor = np.corrcoef(np.array(train_x).astype(np.float), np.array(test_x).astype(np.float))\n",
    "    return np.array([coor[i][-1] for i in range(len(coor))]).mean()"
   ]
  },
  {
   "cell_type": "code",
   "execution_count": 219,
   "metadata": {},
   "outputs": [],
   "source": [
    "def get_r_sq(train_x, train_y):\n",
    "    scores = [r2_score(np.array(test_x).astype(np.float64), np.array(train_x[i]).astype(np.float64)) for i in range(len(train_x))]\n",
    "    return sum(scores)/len(scores)"
   ]
  },
  {
   "cell_type": "code",
   "execution_count": 184,
   "metadata": {},
   "outputs": [
    {
     "name": "stdout",
     "output_type": "stream",
     "text": [
      "3\n"
     ]
    }
   ],
   "source": [
    "sq = np.array([[1, 3], [3,4]])-np.array([2, 4])\n",
    "ss1 = sum(sum([it**2 for it in sq]))\n",
    "print(ss1)"
   ]
  },
  {
   "cell_type": "code",
   "execution_count": 217,
   "metadata": {},
   "outputs": [],
   "source": [
    "scores = [r2_score(np.array(test_x).astype(np.float64), np.array(train_x[i]).astype(np.float64)) for i in range(len(train_x))]"
   ]
  },
  {
   "cell_type": "code",
   "execution_count": 218,
   "metadata": {},
   "outputs": [
    {
     "name": "stdout",
     "output_type": "stream",
     "text": [
      "-1.2564200246331763\n"
     ]
    }
   ],
   "source": [
    "print(sum(scores)/len(scores))"
   ]
  },
  {
   "cell_type": "code",
   "execution_count": 221,
   "metadata": {},
   "outputs": [
    {
     "data": {
      "text/plain": [
       "6990730532.008889"
      ]
     },
     "execution_count": 221,
     "metadata": {},
     "output_type": "execute_result"
    }
   ],
   "source": [
    "np.array(test_x).astype(np.float64).var()"
   ]
  },
  {
   "cell_type": "code",
   "execution_count": 223,
   "metadata": {},
   "outputs": [],
   "source": [
    "#norm r\n",
    "def get_norm_r(r, n, p):\n",
    "    return 1-(1-p)*(n-1)/(n-p-1)"
   ]
  },
  {
   "cell_type": "code",
   "execution_count": 230,
   "metadata": {},
   "outputs": [
    {
     "data": {
      "text/plain": [
       "5328.75"
      ]
     },
     "execution_count": 230,
     "metadata": {},
     "output_type": "execute_result"
    }
   ],
   "source": [
    "get_norm_r(get_coor_coef(train_x, test_x), len(train_x), len(train_x)-len(train_x[0]))"
   ]
  },
  {
   "cell_type": "code",
   "execution_count": 240,
   "metadata": {},
   "outputs": [],
   "source": [
    "std = math.sqrt(np.array(train_x).astype(np.float64).var())"
   ]
  },
  {
   "cell_type": "code",
   "execution_count": 241,
   "metadata": {},
   "outputs": [
    {
     "name": "stdout",
     "output_type": "stream",
     "text": [
      "192541.63182403534\n"
     ]
    }
   ],
   "source": [
    "print(std)"
   ]
  },
  {
   "cell_type": "code",
   "execution_count": null,
   "metadata": {},
   "outputs": [],
   "source": []
  },
  {
   "cell_type": "code",
   "execution_count": null,
   "metadata": {},
   "outputs": [],
   "source": []
  },
  {
   "cell_type": "code",
   "execution_count": 237,
   "metadata": {},
   "outputs": [],
   "source": [
    "np_money = np.array(x_money).astype(np.float64)"
   ]
  },
  {
   "cell_type": "code",
   "execution_count": 238,
   "metadata": {},
   "outputs": [
    {
     "name": "stdout",
     "output_type": "stream",
     "text": [
      "223164.1720368267 509883.31481481483\n"
     ]
    }
   ],
   "source": [
    "print(np_money.std(), np_money.mean())"
   ]
  },
  {
   "cell_type": "code",
   "execution_count": 239,
   "metadata": {},
   "outputs": [
    {
     "data": {
      "text/plain": [
       "array([1130000.,  555000.,  845000.,  495000.,  460000.,  570000.,\n",
       "        499000.,  690000.,  344000.,  435000.,  625000.,  170000.,\n",
       "        760000.,  420000.,  250000.,  245000.,  430000.,  585000.,\n",
       "        629000.,  429000.,  225000.,  499000.,  120000.,  433000.,\n",
       "        630000.,  450000.,  485000.,  235000.,  279000.,  320000.,\n",
       "        470000.,  670000.,  420000.,  560000.,  735700.,  850000.,\n",
       "        455000.,  698000.,  699999.,  470000.,  800000.,  535000.,\n",
       "        679000.,  325000.,  285000.,  385000.,  419000.,  420000.,\n",
       "       1350000.,  487000.,  260000.,  299000.,  540000.,  479000.])"
      ]
     },
     "execution_count": 239,
     "metadata": {},
     "output_type": "execute_result"
    }
   ],
   "source": [
    "np_money"
   ]
  }
 ],
 "metadata": {
  "kernelspec": {
   "display_name": "Python 3",
   "language": "python",
   "name": "python3"
  },
  "language_info": {
   "codemirror_mode": {
    "name": "ipython",
    "version": 3
   },
   "file_extension": ".py",
   "mimetype": "text/x-python",
   "name": "python",
   "nbconvert_exporter": "python",
   "pygments_lexer": "ipython3",
   "version": "3.6.0"
  }
 },
 "nbformat": 4,
 "nbformat_minor": 2
}
